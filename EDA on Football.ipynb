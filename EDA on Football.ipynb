{
 "cells": [
  {
   "cell_type": "code",
   "execution_count": 1,
   "id": "39cdcf9f",
   "metadata": {},
   "outputs": [],
   "source": [
    "library(readxl)"
   ]
  },
  {
   "cell_type": "code",
   "execution_count": 2,
   "id": "b42aab37",
   "metadata": {},
   "outputs": [],
   "source": [
    "pl = read_excel('football dataset.xlsx')"
   ]
  },
  {
   "cell_type": "code",
   "execution_count": 3,
   "id": "93bedcce",
   "metadata": {},
   "outputs": [
    {
     "name": "stdout",
     "output_type": "stream",
     "text": [
      "Classes 'tbl_df', 'tbl' and 'data.frame':\t4070 obs. of  114 variables:\n",
      " $ Column1                 : num  0 1 2 3 4 5 6 7 8 9 ...\n",
      " $ home_team               : chr  \"Blackpool\" \"Liverpool\" \"Manchester United\" \"Stoke City\" ...\n",
      " $ away_team               : chr  \"West Bromwich Albion\" \"Manchester City\" \"Arsenal\" \"Aston Villa\" ...\n",
      " $ result_full             : chr  \"2-1\" \"3-0\" \"1-0\" \"2-1\" ...\n",
      " $ result_ht               : chr  \"1-0\" \"3-0\" \"1-0\" \"0-1\" ...\n",
      " $ goal_home_ft            : num  2 3 1 2 0 3 0 1 2 3 ...\n",
      " $ goal_away_ft            : num  1 0 0 1 0 0 0 2 2 0 ...\n",
      " $ winner                  : chr  \"Blackpool\" \"Liverpool\" \"Manchester United\" \"Stoke City\" ...\n",
      " $ home_team_pts           : chr  \"3\" \"3\" \"3\" \"3\" ...\n",
      " $ away_team_pts           : chr  \"0\" \"0\" \"0\" \"0\" ...\n",
      " $ home_clearances         : num  15 16 26 26 50 15 30 9 44 24 ...\n",
      " $ home_corners            : num  8 6 5 8 4 5 5 10 4 5 ...\n",
      " $ home_fouls_conceded     : num  16 6 9 12 11 9 12 10 6 13 ...\n",
      " $ home_offsides           : num  2 5 3 2 1 4 6 2 2 1 ...\n",
      " $ home_passes             : num  550 527 430 277 333 609 312 615 395 492 ...\n",
      " $ home_possession         : num  65.4 53.1 46.1 43.3 37.4 65.6 43 68.2 45.3 54.4 ...\n",
      " $ home_red_cards          : num  0 0 0 0 0 0 1 1 0 0 ...\n",
      " $ home_shots              : num  26 21 17 21 13 19 9 33 14 12 ...\n",
      " $ home_shots_on_target    : num  5 5 6 9 5 4 2 7 4 3 ...\n",
      " $ home_tackles            : num  19 31 27 16 32 23 15 26 20 30 ...\n",
      " $ home_touches            : num  740 750 635 495 576 820 517 833 622 690 ...\n",
      " $ home_yellow_cards       : num  2 1 0 1 2 2 2 2 0 1 ...\n",
      " $ away_clearances         : num  25 17 33 49 21 32 44 37 33 24 ...\n",
      " $ away_corners            : num  2 2 4 7 6 3 3 0 4 4 ...\n",
      " $ away_fouls_conceded     : num  13 3 17 14 13 7 14 13 8 13 ...\n",
      " $ away_offsides           : num  3 0 0 1 3 0 2 2 5 3 ...\n",
      " $ away_passes             : num  280 465 499 382 580 313 428 286 459 400 ...\n",
      " $ away_possession         : num  34.6 46.9 53.9 56.7 62.6 34.4 57 31.8 54.7 45.6 ...\n",
      " $ away_red_cards          : num  2 0 0 0 0 0 0 1 0 0 ...\n",
      " $ away_shots              : num  14 12 11 11 25 9 17 6 13 17 ...\n",
      " $ away_shots_on_target    : num  4 2 5 5 3 4 4 2 7 5 ...\n",
      " $ away_tackles            : num  15 27 20 20 23 21 10 22 23 16 ...\n",
      " $ away_touches            : num  472 687 737 599 837 527 635 515 679 603 ...\n",
      " $ away_yellow_cards       : num  3 0 4 2 1 2 1 1 2 1 ...\n",
      " $ sg_match_ft             : num  1 3 1 1 0 3 0 -1 0 3 ...\n",
      " $ goal_home_ht            : num  1 3 1 0 0 2 0 0 1 1 ...\n",
      " $ goal_away_ht            : num  0 0 0 1 0 0 0 2 1 0 ...\n",
      " $ sg_match_ht             : num  1 3 1 -1 0 2 0 -2 0 1 ...\n",
      " $ clearances_avg_H        : num  41 28.8 20 17 36.8 NA 36.7 29.8 38.5 NA ...\n",
      " $ corners_avg_H           : num  5 6.7 5.4 6 5.3 NA 2.7 6.6 6.2 NA ...\n",
      " $ fouls_conceded_avg_H    : num  11.7 12.3 9.5 15 11.7 NA 16 12.8 10.8 NA ...\n",
      " $ offsides_avg_H          : num  3.7 2.7 2.8 2 3 NA 4 2.8 2.2 NA ...\n",
      " $ passes_avg_H            : num  454 435 541 317 476 ...\n",
      " $ possession_avg_H        : num  56.2 52.3 58.4 41.7 54 NA 34.9 51.8 48.5 NA ...\n",
      " $ red_cards_avg_H         : num  0 0.1 0 0 0 NA 0 0.2 0.2 NA ...\n",
      " $ shots_avg_H             : num  16 16.5 18.5 19 16.4 NA 11 14.8 16.2 NA ...\n",
      " $ shots_on_target_avg_H   : num  4 5.9 6.6 7 5.2 NA 3 5.2 3 NA ...\n",
      " $ tackles_avg_H           : num  22 24.7 20.4 21 22.8 NA 21.7 23.4 23.2 NA ...\n",
      " $ touches_avg_H           : num  683 658 740 508 699 ...\n",
      " $ yellow_cards_avg_H      : num  1 1.2 1.1 3 1.1 NA 1 1.8 1.2 NA ...\n",
      " $ goals_scored_ft_avg_H   : num  1.67 1.73 3 1 1.31 NA 1 1 1.17 NA ...\n",
      " $ goals_conced_ft_avg_H   : num  2.33 0.8 0.75 2 1.08 NA 1 0.62 0.5 NA ...\n",
      " $ sg_match_ft_acum_H      : num  -2 14 18 -1 3 NA 0 3 4 NA ...\n",
      " $ goals_scored_ht_avg_H   : num  0 0.8 1.5 1 0.46 NA 1 0.38 0.5 NA ...\n",
      " $ goals_conced_ht_avg_H   : num  0.67 0.27 0 2 0.77 NA 0.33 0.38 0.17 NA ...\n",
      " $ sg_match_ht_acum_H      : num  -2 8 12 -1 -4 NA 2 0 2 NA ...\n",
      " $ performance_acum_H      : num  11.1 68.9 91.7 0 51.3 NA 44.4 62.5 66.7 NA ...\n",
      " $ clearances_avg_A        : num  34 35.1 37.6 33 21.2 NA 30 31 29.7 NA ...\n",
      " $ corners_avg_A           : num  3.8 4.7 6.5 2 6 NA 3.3 6 7 NA ...\n",
      " $ fouls_conceded_avg_A    : num  10.8 13.9 12 13 11.9 NA 11 12.5 13.2 NA ...\n",
      " $ offsides_avg_A          : num  2.8 3.1 1.6 5 2.8 NA 1.3 2.5 2.3 NA ...\n",
      " $ passes_avg_A            : num  358 480 503 394 517 ...\n",
      " $ possession_avg_A        : num  42.3 53.3 56.4 49.9 58.7 NA 42.1 55 56.9 NA ...\n",
      " $ red_cards_avg_A         : num  0.2 0.1 0.2 0 0 NA 0.3 0 0 NA ...\n",
      " $ shots_avg_A             : num  11 12.5 15.5 6 17.9 NA 9 16.2 16.5 NA ...\n",
      " $ shots_on_target_avg_A   : num  2.8 3.6 5 0 6.3 NA 2 4.5 4.2 NA ...\n",
      " $ tackles_avg_A           : num  23.8 22.5 22.8 26 21.4 NA 19.7 20.6 19.2 NA ...\n",
      " $ touches_avg_A           : num  573 699 734 599 734 ...\n",
      " $ yellow_cards_avg_A      : num  1.2 2.5 1.6 1 1.8 NA 1.3 1.2 0.7 NA ...\n",
      " $ goals_scored_ft_avg_A   : num  1.25 1.47 1.88 0 1.69 NA 1 1 0.83 NA ...\n",
      " $ goals_conced_ft_avg_A   : num  2.75 1.07 1 6 1.08 NA 1.33 1 0.83 NA ...\n",
      " $ sg_match_ft_acum_A      : num  -6 6 7 -6 8 NA -1 0 0 NA ...\n",
      " $ goals_scored_ht_avg_A   : num  0 0.8 0.88 0 0.69 NA 0.33 0.38 0.33 NA ...\n",
      " $ goals_conced_ht_avg_A   : num  1 0.27 0.25 3 0.77 NA 0.33 0.75 0.67 NA ...\n",
      " $ sg_match_ht_acum_A      : num  -4 8 5 -3 -1 NA 0 -3 -2 NA ...\n",
      " $ performance_acum_A      : num  33.3 48.9 70.8 0 46.2 NA 22.2 33.3 33.3 NA ...\n",
      " $ clearances_avg_home     : num  38.4 29.8 29.1 32.3 38.7 NA 42.6 32.1 37.4 29 ...\n",
      " $ corners_avg_home        : num  4.6 5.6 6.1 4 5 NA 5 5.6 4.8 3 ...\n",
      " $ fouls_conceded_avg_home : num  11.3 12.3 10.8 13.7 12.1 NA 14.3 13.5 12.4 16 ...\n",
      " $ offsides_avg_home       : num  3.4 2.2 2.9 2 2.9 NA 2.6 3.1 2.4 1 ...\n",
      " $ passes_avg_home         : num  408 440 517 256 447 ...\n",
      " $ possession_avg_home     : num  48.3 52.7 57.6 35.7 51.6 NA 40.1 54 46.5 60.8 ...\n",
      " $ red_cards_avg_home      : num  0.1 0.1 0 0 0 NA 0 0.2 0.2 0 ...\n",
      " $ shots_avg_home          : num  12.9 15.3 16.5 13 14.2 NA 11.7 13.6 14.2 14 ...\n",
      " $ shots_on_target_avg_home: num  4.4 5.3 5.6 4 4.5 NA 3.1 4.6 3.4 2 ...\n",
      " $ tackles_avg_home        : num  18.8 24 17.3 18.3 21.3 NA 21 23.1 22.8 28 ...\n",
      " $ touches_avg_home        : num  619 660 726 442 669 ...\n",
      " $ yellow_cards_avg_home   : num  1.2 1.6 1.6 2.3 1.1 NA 1.6 2.1 1.6 2 ...\n",
      " $ goals_scored_ft_avg_home: num  1.44 1.35 2.33 0.67 1.08 NA 1 1.41 1.15 0 ...\n",
      " $ goals_conced_ft_avg_home: num  2.22 1.23 1.07 2 1.08 NA 1.14 0.76 1 0 ...\n",
      " $ sg_match_ft_acum_home   : num  -7 4 19 -4 0 NA -1 11 2 0 ...\n",
      " $ goals_scored_ht_avg_home: num  0.67 0.55 1.07 0.33 0.46 NA 0.71 0.65 0.38 0 ...\n",
      " $ goals_conced_ht_avg_home: num  1.11 0.42 0.13 1.67 0.65 NA 0.14 0.24 0.38 0 ...\n",
      " $ sg_match_ht_acum_home   : num  -4 4 14 -4 -5 NA 4 7 0 0 ...\n",
      " $ performance_acum_home   : num  37 48.4 68.9 0 38.5 NA 38.1 62.7 48.7 33.3 ...\n",
      " $ clearances_avg_away     : num  32.1 31 29.8 35.7 20.7 NA 30 29.4 29.2 33 ...\n",
      " $ corners_avg_away        : num  5.1 6.1 7.2 7 6.6 NA 5.3 6.4 7.1 9 ...\n",
      " $ fouls_conceded_avg_away : num  10.8 13.3 12.9 16.3 11.4 NA 10.9 12.9 13.5 15 ...\n",
      " $ offsides_avg_away       : num  2.7 3 2.5 2.3 3.1 NA 1.4 2.7 2.4 5 ...\n",
      "  [list output truncated]\n"
     ]
    }
   ],
   "source": [
    "str(pl)"
   ]
  },
  {
   "cell_type": "code",
   "execution_count": 4,
   "id": "66f0744c",
   "metadata": {},
   "outputs": [
    {
     "data": {
      "text/plain": [
       "    Column1      home_team          away_team         result_full       \n",
       " Min.   :   0   Length:4070        Length:4070        Length:4070       \n",
       " 1st Qu.:1017   Class :character   Class :character   Class :character  \n",
       " Median :2034   Mode  :character   Mode  :character   Mode  :character  \n",
       " Mean   :2034                                                           \n",
       " 3rd Qu.:3052                                                           \n",
       " Max.   :4069                                                           \n",
       "                                                                        \n",
       "  result_ht          goal_home_ft    goal_away_ft      winner         \n",
       " Length:4070        Min.   :0.000   Min.   :0.000   Length:4070       \n",
       " Class :character   1st Qu.:1.000   1st Qu.:0.000   Class :character  \n",
       " Mode  :character   Median :1.000   Median :1.000   Mode  :character  \n",
       "                    Mean   :1.536   Mean   :1.201                     \n",
       "                    3rd Qu.:2.000   3rd Qu.:2.000                     \n",
       "                    Max.   :9.000   Max.   :9.000                     \n",
       "                                                                      \n",
       " home_team_pts      away_team_pts      home_clearances  home_corners   \n",
       " Length:4070        Length:4070        Min.   : 0.00   Min.   : 0.000  \n",
       " Class :character   Class :character   1st Qu.:17.00   1st Qu.: 4.000  \n",
       " Mode  :character   Mode  :character   Median :23.00   Median : 6.000  \n",
       "                                       Mean   :24.72   Mean   : 5.946  \n",
       "                                       3rd Qu.:31.00   3rd Qu.: 8.000  \n",
       "                                       Max.   :73.00   Max.   :19.000  \n",
       "                                                                       \n",
       " home_fouls_conceded home_offsides     home_passes     home_possession\n",
       " Min.   : 0.00       Min.   : 0.000   Min.   : 176.0   Min.   :18.00  \n",
       " 1st Qu.: 8.00       1st Qu.: 1.000   1st Qu.: 360.0   1st Qu.:43.10  \n",
       " Median :11.00       Median : 2.000   Median : 433.0   Median :51.10  \n",
       " Mean   :10.78       Mean   : 2.126   Mean   : 450.4   Mean   :51.23  \n",
       " 3rd Qu.:13.00       3rd Qu.: 3.000   3rd Qu.: 527.0   3rd Qu.:59.60  \n",
       " Max.   :24.00       Max.   :11.000   Max.   :1015.0   Max.   :82.90  \n",
       "                                                                      \n",
       " home_red_cards      home_shots    home_shots_on_target  home_tackles  \n",
       " Min.   :0.00000   Min.   : 0.00   Min.   : 0.000       Min.   : 3.00  \n",
       " 1st Qu.:0.00000   1st Qu.:10.00   1st Qu.: 3.000       1st Qu.:14.00  \n",
       " Median :0.00000   Median :14.00   Median : 5.000       Median :18.00  \n",
       " Mean   :0.05971   Mean   :14.55   Mean   : 4.821       Mean   :17.96  \n",
       " 3rd Qu.:0.00000   3rd Qu.:18.00   3rd Qu.: 6.000       3rd Qu.:21.00  \n",
       " Max.   :2.00000   Max.   :44.00   Max.   :17.000       Max.   :44.00  \n",
       "                                                                       \n",
       "  home_touches    home_yellow_cards away_clearances  away_corners   \n",
       " Min.   : 336.0   Min.   :0.000     Min.   : 1.00   Min.   : 0.000  \n",
       " 1st Qu.: 566.0   1st Qu.:1.000     1st Qu.:20.00   1st Qu.: 3.000  \n",
       " Median : 640.0   Median :1.000     Median :28.00   Median : 4.000  \n",
       " Mean   : 654.3   Mean   :1.495     Mean   :29.25   Mean   : 4.747  \n",
       " 3rd Qu.: 734.0   3rd Qu.:2.000     3rd Qu.:36.00   3rd Qu.: 6.000  \n",
       " Max.   :1160.0   Max.   :7.000     Max.   :93.00   Max.   :19.000  \n",
       "                                                                    \n",
       " away_fouls_conceded away_offsides     away_passes    away_possession\n",
       " Min.   : 1.00       Min.   : 0.000   Min.   :169.0   Min.   :17.10  \n",
       " 1st Qu.: 9.00       1st Qu.: 1.000   1st Qu.:341.0   1st Qu.:40.40  \n",
       " Median :11.00       Median : 2.000   Median :416.0   Median :48.90  \n",
       " Mean   :11.22       Mean   : 1.949   Mean   :430.4   Mean   :48.77  \n",
       " 3rd Qu.:14.00       3rd Qu.: 3.000   3rd Qu.:504.0   3rd Qu.:56.90  \n",
       " Max.   :26.00       Max.   :11.000   Max.   :976.0   Max.   :82.00  \n",
       "                                                                     \n",
       " away_red_cards      away_shots    away_shots_on_target  away_tackles  \n",
       " Min.   :0.00000   Min.   : 0.00   Min.   : 0.000       Min.   : 3.00  \n",
       " 1st Qu.:0.00000   1st Qu.: 8.00   1st Qu.: 2.000       1st Qu.:14.00  \n",
       " Median :0.00000   Median :11.00   Median : 4.000       Median :18.00  \n",
       " Mean   :0.08182   Mean   :11.69   Mean   : 3.949       Mean   :18.31  \n",
       " 3rd Qu.:0.00000   3rd Qu.:15.00   3rd Qu.: 5.000       3rd Qu.:22.00  \n",
       " Max.   :2.00000   Max.   :32.00   Max.   :15.000       Max.   :46.00  \n",
       "                                                                       \n",
       "  away_touches  away_yellow_cards  sg_match_ft       goal_home_ht  \n",
       " Min.   : 324   Min.   :0.00      Min.   :-9.0000   Min.   :0.000  \n",
       " 1st Qu.: 543   1st Qu.:1.00      1st Qu.:-1.0000   1st Qu.:0.000  \n",
       " Median : 621   Median :2.00      Median : 0.0000   Median :0.000  \n",
       " Mean   : 632   Mean   :1.74      Mean   : 0.3349   Mean   :0.685  \n",
       " 3rd Qu.: 709   3rd Qu.:3.00      3rd Qu.: 1.0000   3rd Qu.:1.000  \n",
       " Max.   :1116   Max.   :9.00      Max.   : 9.0000   Max.   :5.000  \n",
       "                                                                   \n",
       "  goal_away_ht     sg_match_ht      clearances_avg_H corners_avg_H   \n",
       " Min.   :0.0000   Min.   :-5.0000   Min.   : 4.00    Min.   : 0.000  \n",
       " 1st Qu.:0.0000   1st Qu.: 0.0000   1st Qu.:19.70    1st Qu.: 4.900  \n",
       " Median :0.0000   Median : 0.0000   Median :24.00    Median : 5.800  \n",
       " Mean   :0.5334   Mean   : 0.1516   Mean   :24.68    Mean   : 5.895  \n",
       " 3rd Qu.:1.0000   3rd Qu.: 1.0000   3rd Qu.:29.18    3rd Qu.: 6.800  \n",
       " Max.   :5.0000   Max.   : 5.0000   Max.   :58.00    Max.   :15.000  \n",
       "                                    NA's   :220      NA's   :220     \n",
       " fouls_conceded_avg_H offsides_avg_H   passes_avg_H   possession_avg_H\n",
       " Min.   : 2.00        Min.   :0.000   Min.   :208.0   Min.   :21.8    \n",
       " 1st Qu.: 9.90        1st Qu.:1.700   1st Qu.:381.6   1st Qu.:46.0    \n",
       " Median :11.00        Median :2.000   Median :432.4   Median :50.7    \n",
       " Mean   :11.07        Mean   :2.094   Mean   :451.8   Mean   :51.3    \n",
       " 3rd Qu.:12.10        3rd Qu.:2.500   3rd Qu.:522.4   3rd Qu.:57.0    \n",
       " Max.   :20.00        Max.   :7.000   Max.   :799.0   Max.   :77.5    \n",
       " NA's   :220          NA's   :220     NA's   :220     NA's   :220     \n",
       " red_cards_avg_H   shots_avg_H    shots_on_target_avg_H tackles_avg_H  \n",
       " Min.   :0.0000   Min.   : 4.50   Min.   : 0.000        Min.   : 5.00  \n",
       " 1st Qu.:0.0000   1st Qu.:12.00   1st Qu.: 3.600        1st Qu.:16.10  \n",
       " Median :0.0000   Median :14.20   Median : 4.500        Median :18.00  \n",
       " Mean   :0.0726   Mean   :14.56   Mean   : 4.748        Mean   :18.07  \n",
       " 3rd Qu.:0.1000   3rd Qu.:16.90   3rd Qu.: 5.700        3rd Qu.:20.00  \n",
       " Max.   :2.0000   Max.   :32.00   Max.   :15.000        Max.   :34.00  \n",
       " NA's   :220      NA's   :220     NA's   :220           NA's   :220    \n",
       " touches_avg_H   yellow_cards_avg_H goals_scored_ft_avg_H goals_conced_ft_avg_H\n",
       " Min.   :375.0   Min.   :0.000      Min.   :0.000         Min.   :0.000        \n",
       " 1st Qu.:586.9   1st Qu.:1.200      1st Qu.:1.060         1st Qu.:0.880        \n",
       " Median :638.0   Median :1.500      Median :1.380         Median :1.200        \n",
       " Mean   :655.1   Mean   :1.535      Mean   :1.512         Mean   :1.235        \n",
       " 3rd Qu.:726.3   3rd Qu.:1.900      3rd Qu.:1.830         3rd Qu.:1.500        \n",
       " Max.   :982.0   Max.   :6.000      Max.   :6.000         Max.   :5.000        \n",
       " NA's   :220     NA's   :220        NA's   :220           NA's   :220          \n",
       " sg_match_ft_acum_H goals_scored_ht_avg_H goals_conced_ht_avg_H\n",
       " Min.   :-24.0      Min.   :0.0000        Min.   :0.0000       \n",
       " 1st Qu.: -2.0      1st Qu.:0.4200        1st Qu.:0.3300       \n",
       " Median :  1.0      Median :0.6000        Median :0.5000       \n",
       " Mean   :  2.9      Mean   :0.6694        Mean   :0.5438       \n",
       " 3rd Qu.:  6.0      3rd Qu.:0.8800        3rd Qu.:0.7300       \n",
       " Max.   : 48.0      Max.   :4.0000        Max.   :3.0000       \n",
       " NA's   :220        NA's   :220           NA's   :220          \n",
       " sg_match_ht_acum_H performance_acum_H clearances_avg_A corners_avg_A   \n",
       " Min.   :-13.000    Min.   :  0.00     Min.   : 3.00    Min.   : 0.000  \n",
       " 1st Qu.: -2.000    1st Qu.: 35.90     1st Qu.:24.50    1st Qu.: 3.900  \n",
       " Median :  1.000    Median : 50.00     Median :28.90    Median : 4.700  \n",
       " Mean   :  1.236    Mean   : 51.42     Mean   :29.27    Mean   : 4.716  \n",
       " 3rd Qu.:  4.000    3rd Qu.: 66.70     3rd Qu.:33.90    3rd Qu.: 5.500  \n",
       " Max.   : 30.000    Max.   :100.00     Max.   :56.00    Max.   :12.000  \n",
       " NA's   :220        NA's   :220        NA's   :220      NA's   :220     \n",
       " fouls_conceded_avg_A offsides_avg_A   passes_avg_A   possession_avg_A\n",
       " Min.   : 3.00        Min.   :0.000   Min.   :189.0   Min.   :23.10   \n",
       " 1st Qu.:10.20        1st Qu.:1.400   1st Qu.:363.8   1st Qu.:43.10   \n",
       " Median :11.30        Median :1.900   Median :413.9   Median :47.90   \n",
       " Mean   :11.39        Mean   :1.948   Mean   :431.0   Mean   :48.72   \n",
       " 3rd Qu.:12.50        3rd Qu.:2.400   3rd Qu.:493.8   3rd Qu.:54.50   \n",
       " Max.   :25.00        Max.   :7.000   Max.   :785.5   Max.   :78.20   \n",
       " NA's   :220          NA's   :220     NA's   :220     NA's   :220     \n",
       " red_cards_avg_A    shots_avg_A    shots_on_target_avg_A tackles_avg_A  \n",
       " Min.   :0.00000   Min.   : 3.00   Min.   : 0.000        Min.   : 6.00  \n",
       " 1st Qu.:0.00000   1st Qu.: 9.90   1st Qu.: 3.100        1st Qu.:16.20  \n",
       " Median :0.00000   Median :11.60   Median : 3.900        Median :18.40  \n",
       " Mean   :0.08584   Mean   :11.79   Mean   : 4.008        Mean   :18.48  \n",
       " 3rd Qu.:0.10000   3rd Qu.:13.50   3rd Qu.: 4.800        3rd Qu.:20.50  \n",
       " Max.   :1.00000   Max.   :22.00   Max.   :10.000        Max.   :35.00  \n",
       " NA's   :220       NA's   :220     NA's   :220           NA's   :220    \n",
       " touches_avg_A   yellow_cards_avg_A goals_scored_ft_avg_A goals_conced_ft_avg_A\n",
       " Min.   :374.0   Min.   :0.000      Min.   :0.000         Min.   :0.000        \n",
       " 1st Qu.:566.8   1st Qu.:1.500      1st Qu.:0.820         1st Qu.:1.093        \n",
       " Median :613.7   Median :1.800      Median :1.110         Median :1.500        \n",
       " Mean   :632.0   Mean   :1.801      Mean   :1.234         Mean   :1.508        \n",
       " 3rd Qu.:700.4   3rd Qu.:2.100      3rd Qu.:1.570         3rd Qu.:1.880        \n",
       " Max.   :977.5   Max.   :5.000      Max.   :6.000         Max.   :6.000        \n",
       " NA's   :220     NA's   :220        NA's   :220           NA's   :220          \n",
       " sg_match_ft_acum_A goals_scored_ht_avg_A goals_conced_ht_avg_A\n",
       " Min.   :-33.00     Min.   :0.0000        Min.   :0.0000       \n",
       " 1st Qu.: -8.00     1st Qu.:0.3000        1st Qu.:0.4400       \n",
       " Median : -2.00     Median :0.5000        Median :0.6400       \n",
       " Mean   : -2.89     Mean   :0.5425        Mean   :0.6678       \n",
       " 3rd Qu.:  2.00     3rd Qu.:0.7300        3rd Qu.:0.8675       \n",
       " Max.   : 31.00     Max.   :3.0000        Max.   :4.0000       \n",
       " NA's   :220        NA's   :220           NA's   :220          \n",
       " sg_match_ht_acum_A performance_acum_A clearances_avg_home corners_avg_home\n",
       " Min.   :-18.000    Min.   :  0.00     Min.   : 7.00       Min.   : 0.000  \n",
       " 1st Qu.: -3.000    1st Qu.: 24.20     1st Qu.:22.60       1st Qu.: 4.500  \n",
       " Median : -1.000    Median : 36.40     Median :26.90       Median : 5.200  \n",
       " Mean   : -1.237    Mean   : 40.01     Mean   :27.12       Mean   : 5.263  \n",
       " 3rd Qu.:  1.000    3rd Qu.: 53.30     3rd Qu.:31.20       3rd Qu.: 6.000  \n",
       " Max.   : 17.000    Max.   :100.00     Max.   :56.00       Max.   :13.000  \n",
       " NA's   :220        NA's   :220        NA's   :110         NA's   :110     \n",
       " fouls_conceded_avg_home offsides_avg_home passes_avg_home possession_avg_home\n",
       " Min.   : 3.00           Min.   :0.000     Min.   :189.0   Min.   :23.10      \n",
       " 1st Qu.:10.20           1st Qu.:1.600     1st Qu.:374.0   1st Qu.:44.70      \n",
       " Median :11.20           Median :2.000     Median :419.7   Median :49.20      \n",
       " Mean   :11.23           Mean   :2.013     Mean   :440.8   Mean   :49.95      \n",
       " 3rd Qu.:12.10           3rd Qu.:2.400     3rd Qu.:506.7   3rd Qu.:55.60      \n",
       " Max.   :25.00           Max.   :6.000     Max.   :768.0   Max.   :78.20      \n",
       " NA's   :110             NA's   :110       NA's   :110     NA's   :110        \n",
       " red_cards_avg_home shots_avg_home  shots_on_target_avg_home tackles_avg_home\n",
       " Min.   :0.00000    Min.   : 4.00   Min.   : 0.000           Min.   : 6.00   \n",
       " 1st Qu.:0.00000    1st Qu.:11.10   1st Qu.: 3.400           1st Qu.:16.40   \n",
       " Median :0.10000    Median :12.80   Median : 4.100           Median :18.30   \n",
       " Mean   :0.07747    Mean   :13.08   Mean   : 4.352           Mean   :18.28   \n",
       " 3rd Qu.:0.10000    3rd Qu.:14.90   3rd Qu.: 5.200           3rd Qu.:20.00   \n",
       " Max.   :1.00000    Max.   :29.00   Max.   :10.300           Max.   :35.00   \n",
       " NA's   :110        NA's   :110     NA's   :110              NA's   :110     \n",
       " touches_avg_home yellow_cards_avg_home goals_scored_ft_avg_home\n",
       " Min.   :395.0    Min.   :0.00          Min.   :0.000           \n",
       " 1st Qu.:576.8    1st Qu.:1.40          1st Qu.:1.000           \n",
       " Median :623.0    Median :1.70          Median :1.240           \n",
       " Mean   :642.9    Mean   :1.68          Mean   :1.365           \n",
       " 3rd Qu.:711.8    3rd Qu.:2.00          3rd Qu.:1.700           \n",
       " Max.   :948.0    Max.   :5.00          Max.   :6.000           \n",
       " NA's   :110      NA's   :110           NA's   :110             \n",
       " goals_conced_ft_avg_home sg_match_ft_acum_home goals_scored_ht_avg_home\n",
       " Min.   :0.000            Min.   :-54.0000      Min.   :0.0000          \n",
       " 1st Qu.:1.090            1st Qu.:-10.0000      1st Qu.:0.4100          \n",
       " Median :1.340            Median : -2.0000      Median :0.5500          \n",
       " Mean   :1.377            Mean   : -0.1603      Mean   :0.6007          \n",
       " 3rd Qu.:1.670            3rd Qu.:  6.0000      3rd Qu.:0.7700          \n",
       " Max.   :6.000            Max.   : 76.0000      Max.   :3.0000          \n",
       " NA's   :110              NA's   :110           NA's   :110             \n",
       " goals_conced_ht_avg_home sg_match_ht_acum_home performance_acum_home\n",
       " Min.   :0.0000           Min.   :-25.00000     Min.   :  0.00       \n",
       " 1st Qu.:0.4300           1st Qu.: -5.00000     1st Qu.: 33.30       \n",
       " Median :0.6000           Median : -1.00000     Median : 42.30       \n",
       " Mean   :0.6087           Mean   : -0.06237     Mean   : 45.47       \n",
       " 3rd Qu.:0.7525           3rd Qu.:  3.00000     3rd Qu.: 58.30       \n",
       " Max.   :4.0000           Max.   : 39.00000     Max.   :100.00       \n",
       " NA's   :110              NA's   :110           NA's   :110          \n",
       " clearances_avg_away corners_avg_away fouls_conceded_avg_away offsides_avg_away\n",
       " Min.   : 5.00       Min.   : 0.000   Min.   : 3.00           Min.   :0.000    \n",
       " 1st Qu.:22.30       1st Qu.: 4.500   1st Qu.:10.20           1st Qu.:1.600    \n",
       " Median :26.60       Median : 5.200   Median :11.20           Median :2.000    \n",
       " Mean   :26.82       Mean   : 5.342   Mean   :11.23           Mean   :2.027    \n",
       " 3rd Qu.:30.90       3rd Qu.: 6.100   3rd Qu.:12.10           3rd Qu.:2.400    \n",
       " Max.   :57.00       Max.   :15.000   Max.   :20.00           Max.   :7.000    \n",
       " NA's   :110         NA's   :110      NA's   :110             NA's   :110      \n",
       " passes_avg_away possession_avg_away red_cards_avg_away shots_avg_away \n",
       " Min.   :208.0   Min.   :21.80       Min.   :0.00000    Min.   : 4.00  \n",
       " 1st Qu.:374.4   1st Qu.:44.80       1st Qu.:0.00000    1st Qu.:11.10  \n",
       " Median :421.2   Median :49.30       Median :0.10000    Median :12.90  \n",
       " Mean   :441.7   Mean   :50.07       Mean   :0.07669    Mean   :13.25  \n",
       " 3rd Qu.:507.8   3rd Qu.:55.70       3rd Qu.:0.10000    3rd Qu.:15.00  \n",
       " Max.   :752.2   Max.   :76.90       Max.   :2.00000    Max.   :31.00  \n",
       " NA's   :110     NA's   :110         NA's   :110        NA's   :110    \n",
       " shots_on_target_avg_away tackles_avg_away touches_avg_away\n",
       " Min.   : 0.000           Min.   : 5.00    Min.   :375.0   \n",
       " 1st Qu.: 3.500           1st Qu.:16.40    1st Qu.:578.5   \n",
       " Median : 4.200           Median :18.30    Median :625.2   \n",
       " Mean   : 4.395           Mean   :18.26    Mean   :643.9   \n",
       " 3rd Qu.: 5.200           3rd Qu.:20.00    3rd Qu.:712.3   \n",
       " Max.   :15.000           Max.   :34.00    Max.   :975.0   \n",
       " NA's   :110              NA's   :110      NA's   :110     \n",
       " yellow_cards_avg_away goals_scored_ft_avg_away goals_conced_ft_avg_away\n",
       " Min.   :0.00          Min.   :0.000            Min.   :0.000           \n",
       " 1st Qu.:1.40          1st Qu.:1.000            1st Qu.:1.070           \n",
       " Median :1.70          Median :1.255            Median :1.330           \n",
       " Mean   :1.66          Mean   :1.378            Mean   :1.367           \n",
       " 3rd Qu.:1.90          3rd Qu.:1.702            3rd Qu.:1.640           \n",
       " Max.   :5.00          Max.   :6.000            Max.   :5.000           \n",
       " NA's   :110           NA's   :110              NA's   :110             \n",
       " sg_match_ft_acum_away goals_scored_ht_avg_away goals_conced_ht_avg_away\n",
       " Min.   :-54.0000      Min.   :0.0000           Min.   :0.0000          \n",
       " 1st Qu.: -9.0000      1st Qu.:0.4100           1st Qu.:0.4300          \n",
       " Median : -1.0000      Median :0.5500           Median :0.5900          \n",
       " Mean   :  0.1808      Mean   :0.6096           Mean   :0.6013          \n",
       " 3rd Qu.:  7.0000      3rd Qu.:0.7800           3rd Qu.:0.7500          \n",
       " Max.   : 78.0000      Max.   :4.0000           Max.   :3.0000          \n",
       " NA's   :110           NA's   :110              NA's   :110             \n",
       " sg_match_ht_acum_away performance_acum_away\n",
       " Min.   :-26.00000     Min.   :  0.00       \n",
       " 1st Qu.: -5.00000     1st Qu.: 33.30       \n",
       " Median :  0.00000     Median : 42.90       \n",
       " Mean   :  0.06364     Mean   : 45.92       \n",
       " 3rd Qu.:  3.00000     3rd Qu.: 58.60       \n",
       " Max.   : 38.00000     Max.   :100.00       \n",
       " NA's   :110           NA's   :110          "
      ]
     },
     "metadata": {},
     "output_type": "display_data"
    }
   ],
   "source": [
    "summary(pl)"
   ]
  },
  {
   "cell_type": "code",
   "execution_count": 4,
   "id": "876e398d",
   "metadata": {},
   "outputs": [],
   "source": [
    "library(dplyr)\n",
    "library(ggplot2)"
   ]
  },
  {
   "cell_type": "code",
   "execution_count": 4,
   "id": "7ab3051e",
   "metadata": {},
   "outputs": [],
   "source": [
    "options(warn = -1)"
   ]
  },
  {
   "cell_type": "markdown",
   "id": "1b7f5acf",
   "metadata": {},
   "source": [
    "## MOST POINTS"
   ]
  },
  {
   "cell_type": "markdown",
   "id": "d1615e8c",
   "metadata": {},
   "source": [
    "### Most Points at Home"
   ]
  },
  {
   "cell_type": "code",
   "execution_count": 5,
   "id": "10a3e733",
   "metadata": {},
   "outputs": [
    {
     "ename": "ERROR",
     "evalue": "Error in sum(home_team_pts): invalid 'type' (character) of argument\n",
     "output_type": "error",
     "traceback": [
      "Error in sum(home_team_pts): invalid 'type' (character) of argument\nTraceback:\n",
      "1. pl %>% group_by(home_team) %>% summarise(Points = sum(home_team_pts))",
      "2. withVisible(eval(quote(`_fseq`(`_lhs`)), env, env))",
      "3. eval(quote(`_fseq`(`_lhs`)), env, env)",
      "4. eval(quote(`_fseq`(`_lhs`)), env, env)",
      "5. `_fseq`(`_lhs`)",
      "6. freduce(value, `_function_list`)",
      "7. withVisible(function_list[[k]](value))",
      "8. function_list[[k]](value)",
      "9. summarise(., Points = sum(home_team_pts))",
      "10. summarise.tbl_df(., Points = sum(home_team_pts))",
      "11. summarise_impl(.data, dots, environment(), caller_env())"
     ]
    }
   ],
   "source": [
    "most.pts.home =  pl %>% group_by(home_team) %>% \n",
    "  summarise(Points = sum(home_team_pts)) "
   ]
  },
  {
   "cell_type": "markdown",
   "id": "7b1463ca",
   "metadata": {},
   "source": [
    "#### error is coming from sum since R can't sum characters"
   ]
  },
  {
   "cell_type": "code",
   "execution_count": 6,
   "id": "39ce2d8a",
   "metadata": {},
   "outputs": [
    {
     "data": {
      "text/html": [
       "'character'"
      ],
      "text/latex": [
       "'character'"
      ],
      "text/markdown": [
       "'character'"
      ],
      "text/plain": [
       "[1] \"character\""
      ]
     },
     "metadata": {},
     "output_type": "display_data"
    }
   ],
   "source": [
    "class(pl$home_team_pts)"
   ]
  },
  {
   "cell_type": "code",
   "execution_count": 5,
   "id": "d8652b0e",
   "metadata": {},
   "outputs": [],
   "source": [
    "pl$home_team_pts = as.numeric(pl$home_team_pts)\n",
    "pl$away_team_pts = as.numeric(pl$away_team_pts)"
   ]
  },
  {
   "cell_type": "code",
   "execution_count": 14,
   "id": "21895c15",
   "metadata": {},
   "outputs": [],
   "source": [
    "most.pts.home =  pl %>% group_by(home_team) %>% \n",
    "  summarise(Points.home = sum(home_team_pts))  %>% \n",
    "  arrange(desc(Points.home))  %>% slice(1:12)"
   ]
  },
  {
   "cell_type": "code",
   "execution_count": 15,
   "id": "0591b10a",
   "metadata": {},
   "outputs": [
    {
     "data": {
      "text/html": [
       "<table>\n",
       "<thead><tr><th scope=col>home_team</th><th scope=col>Points.home</th></tr></thead>\n",
       "<tbody>\n",
       "\t<tr><td>Manchester City  </td><td>504              </td></tr>\n",
       "\t<tr><td>Manchester United</td><td>440              </td></tr>\n",
       "\t<tr><td>Chelsea          </td><td>435              </td></tr>\n",
       "\t<tr><td>Arsenal          </td><td>431              </td></tr>\n",
       "\t<tr><td>Liverpool        </td><td>428              </td></tr>\n",
       "\t<tr><td>Tottenham Hotspur</td><td>415              </td></tr>\n",
       "\t<tr><td>Everton          </td><td>361              </td></tr>\n",
       "\t<tr><td>West Ham United  </td><td>271              </td></tr>\n",
       "\t<tr><td>Newcastle United </td><td>267              </td></tr>\n",
       "\t<tr><td>Stoke City       </td><td>235              </td></tr>\n",
       "\t<tr><td>Southampton      </td><td>232              </td></tr>\n",
       "\t<tr><td>Leicester City   </td><td>212              </td></tr>\n",
       "</tbody>\n",
       "</table>\n"
      ],
      "text/latex": [
       "\\begin{tabular}{r|ll}\n",
       " home\\_team & Points.home\\\\\n",
       "\\hline\n",
       "\t Manchester City   & 504              \\\\\n",
       "\t Manchester United & 440              \\\\\n",
       "\t Chelsea           & 435              \\\\\n",
       "\t Arsenal           & 431              \\\\\n",
       "\t Liverpool         & 428              \\\\\n",
       "\t Tottenham Hotspur & 415              \\\\\n",
       "\t Everton           & 361              \\\\\n",
       "\t West Ham United   & 271              \\\\\n",
       "\t Newcastle United  & 267              \\\\\n",
       "\t Stoke City        & 235              \\\\\n",
       "\t Southampton       & 232              \\\\\n",
       "\t Leicester City    & 212              \\\\\n",
       "\\end{tabular}\n"
      ],
      "text/markdown": [
       "\n",
       "| home_team | Points.home |\n",
       "|---|---|\n",
       "| Manchester City   | 504               |\n",
       "| Manchester United | 440               |\n",
       "| Chelsea           | 435               |\n",
       "| Arsenal           | 431               |\n",
       "| Liverpool         | 428               |\n",
       "| Tottenham Hotspur | 415               |\n",
       "| Everton           | 361               |\n",
       "| West Ham United   | 271               |\n",
       "| Newcastle United  | 267               |\n",
       "| Stoke City        | 235               |\n",
       "| Southampton       | 232               |\n",
       "| Leicester City    | 212               |\n",
       "\n"
      ],
      "text/plain": [
       "   home_team         Points.home\n",
       "1  Manchester City   504        \n",
       "2  Manchester United 440        \n",
       "3  Chelsea           435        \n",
       "4  Arsenal           431        \n",
       "5  Liverpool         428        \n",
       "6  Tottenham Hotspur 415        \n",
       "7  Everton           361        \n",
       "8  West Ham United   271        \n",
       "9  Newcastle United  267        \n",
       "10 Stoke City        235        \n",
       "11 Southampton       232        \n",
       "12 Leicester City    212        "
      ]
     },
     "metadata": {},
     "output_type": "display_data"
    }
   ],
   "source": [
    "most.pts.home"
   ]
  },
  {
   "cell_type": "markdown",
   "id": "552b2aef",
   "metadata": {},
   "source": [
    "### Most Points in Away Matches"
   ]
  },
  {
   "cell_type": "code",
   "execution_count": 16,
   "id": "0aa2af3d",
   "metadata": {},
   "outputs": [],
   "source": [
    "most.pts.away = pl %>% group_by(away_team) %>% \n",
    "  summarise(Points.away = sum(away_team_pts)) %>% \n",
    "  arrange(desc(Points.away))  %>% slice(1:12)"
   ]
  },
  {
   "cell_type": "code",
   "execution_count": 17,
   "id": "bc124c47",
   "metadata": {},
   "outputs": [
    {
     "data": {
      "text/html": [
       "<table>\n",
       "<thead><tr><th scope=col>away_team</th><th scope=col>Points.away</th></tr></thead>\n",
       "<tbody>\n",
       "\t<tr><td>Manchester City  </td><td>387              </td></tr>\n",
       "\t<tr><td>Manchester United</td><td>354              </td></tr>\n",
       "\t<tr><td>Chelsea          </td><td>342              </td></tr>\n",
       "\t<tr><td>Liverpool        </td><td>336              </td></tr>\n",
       "\t<tr><td>Tottenham Hotspur</td><td>325              </td></tr>\n",
       "\t<tr><td>Arsenal          </td><td>307              </td></tr>\n",
       "\t<tr><td>Everton          </td><td>237              </td></tr>\n",
       "\t<tr><td>Southampton      </td><td>194              </td></tr>\n",
       "\t<tr><td>West Ham United  </td><td>180              </td></tr>\n",
       "\t<tr><td>Crystal Palace   </td><td>171              </td></tr>\n",
       "\t<tr><td>Newcastle United </td><td>170              </td></tr>\n",
       "\t<tr><td>Leicester City   </td><td>168              </td></tr>\n",
       "</tbody>\n",
       "</table>\n"
      ],
      "text/latex": [
       "\\begin{tabular}{r|ll}\n",
       " away\\_team & Points.away\\\\\n",
       "\\hline\n",
       "\t Manchester City   & 387              \\\\\n",
       "\t Manchester United & 354              \\\\\n",
       "\t Chelsea           & 342              \\\\\n",
       "\t Liverpool         & 336              \\\\\n",
       "\t Tottenham Hotspur & 325              \\\\\n",
       "\t Arsenal           & 307              \\\\\n",
       "\t Everton           & 237              \\\\\n",
       "\t Southampton       & 194              \\\\\n",
       "\t West Ham United   & 180              \\\\\n",
       "\t Crystal Palace    & 171              \\\\\n",
       "\t Newcastle United  & 170              \\\\\n",
       "\t Leicester City    & 168              \\\\\n",
       "\\end{tabular}\n"
      ],
      "text/markdown": [
       "\n",
       "| away_team | Points.away |\n",
       "|---|---|\n",
       "| Manchester City   | 387               |\n",
       "| Manchester United | 354               |\n",
       "| Chelsea           | 342               |\n",
       "| Liverpool         | 336               |\n",
       "| Tottenham Hotspur | 325               |\n",
       "| Arsenal           | 307               |\n",
       "| Everton           | 237               |\n",
       "| Southampton       | 194               |\n",
       "| West Ham United   | 180               |\n",
       "| Crystal Palace    | 171               |\n",
       "| Newcastle United  | 170               |\n",
       "| Leicester City    | 168               |\n",
       "\n"
      ],
      "text/plain": [
       "   away_team         Points.away\n",
       "1  Manchester City   387        \n",
       "2  Manchester United 354        \n",
       "3  Chelsea           342        \n",
       "4  Liverpool         336        \n",
       "5  Tottenham Hotspur 325        \n",
       "6  Arsenal           307        \n",
       "7  Everton           237        \n",
       "8  Southampton       194        \n",
       "9  West Ham United   180        \n",
       "10 Crystal Palace    171        \n",
       "11 Newcastle United  170        \n",
       "12 Leicester City    168        "
      ]
     },
     "metadata": {},
     "output_type": "display_data"
    }
   ],
   "source": [
    "most.pts.away"
   ]
  },
  {
   "cell_type": "code",
   "execution_count": 12,
   "id": "392bbe9e",
   "metadata": {},
   "outputs": [],
   "source": [
    "most_points = cbind(most.pts.home, most.pts.away)"
   ]
  },
  {
   "cell_type": "code",
   "execution_count": 13,
   "id": "336e76a6",
   "metadata": {},
   "outputs": [],
   "source": [
    "most_points = most_points %>% mutate(Points = Points.home + Points.away) %>% \n",
    "  arrange(desc(Points)) %>% select(home_team, Points)  %>% slice(1:15)  %>% \n",
    "  rename(Team = home_team)"
   ]
  },
  {
   "cell_type": "code",
   "execution_count": 26,
   "id": "64d46112",
   "metadata": {},
   "outputs": [
    {
     "data": {
      "text/html": [
       "<table>\n",
       "<thead><tr><th scope=col>Team</th><th scope=col>Points</th></tr></thead>\n",
       "<tbody>\n",
       "\t<tr><td>Manchester City     </td><td>891                 </td></tr>\n",
       "\t<tr><td>Manchester United   </td><td>794                 </td></tr>\n",
       "\t<tr><td>Chelsea             </td><td>777                 </td></tr>\n",
       "\t<tr><td>Liverpool           </td><td>764                 </td></tr>\n",
       "\t<tr><td>Tottenham Hotspur   </td><td>740                 </td></tr>\n",
       "\t<tr><td>Arsenal             </td><td>738                 </td></tr>\n",
       "\t<tr><td>Everton             </td><td>598                 </td></tr>\n",
       "\t<tr><td>West Ham United     </td><td>451                 </td></tr>\n",
       "\t<tr><td>Newcastle United    </td><td>437                 </td></tr>\n",
       "\t<tr><td>Southampton         </td><td>426                 </td></tr>\n",
       "\t<tr><td>Leicester City      </td><td>380                 </td></tr>\n",
       "\t<tr><td>Stoke City          </td><td>365                 </td></tr>\n",
       "\t<tr><td>West Bromwich Albion</td><td>360                 </td></tr>\n",
       "\t<tr><td>Crystal Palace      </td><td>345                 </td></tr>\n",
       "\t<tr><td>Swansea City        </td><td>312                 </td></tr>\n",
       "</tbody>\n",
       "</table>\n"
      ],
      "text/latex": [
       "\\begin{tabular}{r|ll}\n",
       " Team & Points\\\\\n",
       "\\hline\n",
       "\t Manchester City      & 891                 \\\\\n",
       "\t Manchester United    & 794                 \\\\\n",
       "\t Chelsea              & 777                 \\\\\n",
       "\t Liverpool            & 764                 \\\\\n",
       "\t Tottenham Hotspur    & 740                 \\\\\n",
       "\t Arsenal              & 738                 \\\\\n",
       "\t Everton              & 598                 \\\\\n",
       "\t West Ham United      & 451                 \\\\\n",
       "\t Newcastle United     & 437                 \\\\\n",
       "\t Southampton          & 426                 \\\\\n",
       "\t Leicester City       & 380                 \\\\\n",
       "\t Stoke City           & 365                 \\\\\n",
       "\t West Bromwich Albion & 360                 \\\\\n",
       "\t Crystal Palace       & 345                 \\\\\n",
       "\t Swansea City         & 312                 \\\\\n",
       "\\end{tabular}\n"
      ],
      "text/markdown": [
       "\n",
       "| Team | Points |\n",
       "|---|---|\n",
       "| Manchester City      | 891                  |\n",
       "| Manchester United    | 794                  |\n",
       "| Chelsea              | 777                  |\n",
       "| Liverpool            | 764                  |\n",
       "| Tottenham Hotspur    | 740                  |\n",
       "| Arsenal              | 738                  |\n",
       "| Everton              | 598                  |\n",
       "| West Ham United      | 451                  |\n",
       "| Newcastle United     | 437                  |\n",
       "| Southampton          | 426                  |\n",
       "| Leicester City       | 380                  |\n",
       "| Stoke City           | 365                  |\n",
       "| West Bromwich Albion | 360                  |\n",
       "| Crystal Palace       | 345                  |\n",
       "| Swansea City         | 312                  |\n",
       "\n"
      ],
      "text/plain": [
       "   Team                 Points\n",
       "1  Manchester City      891   \n",
       "2  Manchester United    794   \n",
       "3  Chelsea              777   \n",
       "4  Liverpool            764   \n",
       "5  Tottenham Hotspur    740   \n",
       "6  Arsenal              738   \n",
       "7  Everton              598   \n",
       "8  West Ham United      451   \n",
       "9  Newcastle United     437   \n",
       "10 Southampton          426   \n",
       "11 Leicester City       380   \n",
       "12 Stoke City           365   \n",
       "13 West Bromwich Albion 360   \n",
       "14 Crystal Palace       345   \n",
       "15 Swansea City         312   "
      ]
     },
     "metadata": {},
     "output_type": "display_data"
    }
   ],
   "source": [
    "most_points"
   ]
  },
  {
   "cell_type": "code",
   "execution_count": 28,
   "id": "ba6cbc9a",
   "metadata": {},
   "outputs": [
    {
     "data": {
      "image/png": "[encoded data removed]",
      "text/plain": [
       "plot without title"
      ]
     },
     "metadata": {},
     "output_type": "display_data"
    }
   ],
   "source": [
    "ggplot(most_points, aes(reorder(Team, Points),Points, fill = Team)) + \n",
    "  geom_bar(stat = 'identity', fill = 'darkslategray4', col = 'black') +\n",
    "  coord_flip() + theme_classic() +  theme(legend.position = 'none')+\n",
    "  geom_text(aes(label = Points, hjust = -0.05))+\n",
    "  labs(title = 'Most Points Won by PL Teams Since 2010', y = 'Teams', tag = '1')"
   ]
  },
  {
   "cell_type": "markdown",
   "id": "b99a617d",
   "metadata": {},
   "source": [
    "## MOST GOALS"
   ]
  },
  {
   "cell_type": "markdown",
   "id": "f6f0f5ae",
   "metadata": {},
   "source": [
    "### Most Goals in Home Matches"
   ]
  },
  {
   "cell_type": "code",
   "execution_count": 155,
   "id": "e9c605d8",
   "metadata": {},
   "outputs": [],
   "source": [
    "goals.home = pl %>% group_by(home_team) %>% \n",
    "  summarise(goals.h = sum(goal_home_ft))  %>% \n",
    "  arrange(desc(goals.h)) %>% slice(1:10)"
   ]
  },
  {
   "cell_type": "code",
   "execution_count": 156,
   "id": "1c27fe91",
   "metadata": {},
   "outputs": [
    {
     "data": {
      "text/html": [
       "<table>\n",
       "<thead><tr><th scope=col>home_team</th><th scope=col>goals.h</th></tr></thead>\n",
       "<tbody>\n",
       "\t<tr><td>Manchester City  </td><td>527              </td></tr>\n",
       "\t<tr><td>Liverpool        </td><td>428              </td></tr>\n",
       "\t<tr><td>Arsenal          </td><td>414              </td></tr>\n",
       "\t<tr><td>Chelsea          </td><td>409              </td></tr>\n",
       "\t<tr><td>Manchester United</td><td>408              </td></tr>\n",
       "\t<tr><td>Tottenham Hotspur</td><td>372              </td></tr>\n",
       "\t<tr><td>Everton          </td><td>334              </td></tr>\n",
       "\t<tr><td>West Ham United  </td><td>268              </td></tr>\n",
       "\t<tr><td>Newcastle United </td><td>256              </td></tr>\n",
       "\t<tr><td>Southampton      </td><td>236              </td></tr>\n",
       "</tbody>\n",
       "</table>\n"
      ],
      "text/latex": [
       "\\begin{tabular}{r|ll}\n",
       " home\\_team & goals.h\\\\\n",
       "\\hline\n",
       "\t Manchester City   & 527              \\\\\n",
       "\t Liverpool         & 428              \\\\\n",
       "\t Arsenal           & 414              \\\\\n",
       "\t Chelsea           & 409              \\\\\n",
       "\t Manchester United & 408              \\\\\n",
       "\t Tottenham Hotspur & 372              \\\\\n",
       "\t Everton           & 334              \\\\\n",
       "\t West Ham United   & 268              \\\\\n",
       "\t Newcastle United  & 256              \\\\\n",
       "\t Southampton       & 236              \\\\\n",
       "\\end{tabular}\n"
      ],
      "text/markdown": [
       "\n",
       "| home_team | goals.h |\n",
       "|---|---|\n",
       "| Manchester City   | 527               |\n",
       "| Liverpool         | 428               |\n",
       "| Arsenal           | 414               |\n",
       "| Chelsea           | 409               |\n",
       "| Manchester United | 408               |\n",
       "| Tottenham Hotspur | 372               |\n",
       "| Everton           | 334               |\n",
       "| West Ham United   | 268               |\n",
       "| Newcastle United  | 256               |\n",
       "| Southampton       | 236               |\n",
       "\n"
      ],
      "text/plain": [
       "   home_team         goals.h\n",
       "1  Manchester City   527    \n",
       "2  Liverpool         428    \n",
       "3  Arsenal           414    \n",
       "4  Chelsea           409    \n",
       "5  Manchester United 408    \n",
       "6  Tottenham Hotspur 372    \n",
       "7  Everton           334    \n",
       "8  West Ham United   268    \n",
       "9  Newcastle United  256    \n",
       "10 Southampton       236    "
      ]
     },
     "metadata": {},
     "output_type": "display_data"
    }
   ],
   "source": [
    "goals.home"
   ]
  },
  {
   "cell_type": "markdown",
   "id": "923b4c59",
   "metadata": {},
   "source": [
    "### Most Goals in Away Matches"
   ]
  },
  {
   "cell_type": "code",
   "execution_count": 159,
   "id": "5add36f3",
   "metadata": {},
   "outputs": [],
   "source": [
    "goals.away = pl %>% group_by(away_team) %>% \n",
    "  summarise(goals.aw = sum(goal_away_ft)) %>% \n",
    "  arrange(desc(goals.aw))  %>% slice(1:12)"
   ]
  },
  {
   "cell_type": "code",
   "execution_count": 160,
   "id": "e07ac000",
   "metadata": {},
   "outputs": [
    {
     "data": {
      "text/html": [
       "<table>\n",
       "<thead><tr><th scope=col>away_team</th><th scope=col>goals.aw</th></tr></thead>\n",
       "<tbody>\n",
       "\t<tr><td>Manchester City  </td><td>387              </td></tr>\n",
       "\t<tr><td>Liverpool        </td><td>347              </td></tr>\n",
       "\t<tr><td>Manchester United</td><td>328              </td></tr>\n",
       "\t<tr><td>Tottenham Hotspur</td><td>326              </td></tr>\n",
       "\t<tr><td>Chelsea          </td><td>324              </td></tr>\n",
       "\t<tr><td>Arsenal          </td><td>323              </td></tr>\n",
       "\t<tr><td>Everton          </td><td>233              </td></tr>\n",
       "\t<tr><td>West Ham United  </td><td>205              </td></tr>\n",
       "\t<tr><td>Southampton      </td><td>187              </td></tr>\n",
       "\t<tr><td>Leicester City   </td><td>186              </td></tr>\n",
       "\t<tr><td>Newcastle United </td><td>174              </td></tr>\n",
       "\t<tr><td>Crystal Palace   </td><td>166              </td></tr>\n",
       "</tbody>\n",
       "</table>\n"
      ],
      "text/latex": [
       "\\begin{tabular}{r|ll}\n",
       " away\\_team & goals.aw\\\\\n",
       "\\hline\n",
       "\t Manchester City   & 387              \\\\\n",
       "\t Liverpool         & 347              \\\\\n",
       "\t Manchester United & 328              \\\\\n",
       "\t Tottenham Hotspur & 326              \\\\\n",
       "\t Chelsea           & 324              \\\\\n",
       "\t Arsenal           & 323              \\\\\n",
       "\t Everton           & 233              \\\\\n",
       "\t West Ham United   & 205              \\\\\n",
       "\t Southampton       & 187              \\\\\n",
       "\t Leicester City    & 186              \\\\\n",
       "\t Newcastle United  & 174              \\\\\n",
       "\t Crystal Palace    & 166              \\\\\n",
       "\\end{tabular}\n"
      ],
      "text/markdown": [
       "\n",
       "| away_team | goals.aw |\n",
       "|---|---|\n",
       "| Manchester City   | 387               |\n",
       "| Liverpool         | 347               |\n",
       "| Manchester United | 328               |\n",
       "| Tottenham Hotspur | 326               |\n",
       "| Chelsea           | 324               |\n",
       "| Arsenal           | 323               |\n",
       "| Everton           | 233               |\n",
       "| West Ham United   | 205               |\n",
       "| Southampton       | 187               |\n",
       "| Leicester City    | 186               |\n",
       "| Newcastle United  | 174               |\n",
       "| Crystal Palace    | 166               |\n",
       "\n"
      ],
      "text/plain": [
       "   away_team         goals.aw\n",
       "1  Manchester City   387     \n",
       "2  Liverpool         347     \n",
       "3  Manchester United 328     \n",
       "4  Tottenham Hotspur 326     \n",
       "5  Chelsea           324     \n",
       "6  Arsenal           323     \n",
       "7  Everton           233     \n",
       "8  West Ham United   205     \n",
       "9  Southampton       187     \n",
       "10 Leicester City    186     \n",
       "11 Newcastle United  174     \n",
       "12 Crystal Palace    166     "
      ]
     },
     "metadata": {},
     "output_type": "display_data"
    }
   ],
   "source": [
    "goals.away"
   ]
  },
  {
   "cell_type": "code",
   "execution_count": 17,
   "id": "b6159095",
   "metadata": {},
   "outputs": [],
   "source": [
    "most.goals = cbind(goals.home, goals.away)"
   ]
  },
  {
   "cell_type": "code",
   "execution_count": 18,
   "id": "e83b7c31",
   "metadata": {},
   "outputs": [],
   "source": [
    "most.goals = most.goals %>% mutate(Goals = goals.h + goals.aw) %>% \n",
    "  arrange(desc(Goals)) %>% select(home_team,Goals)  %>% slice(1:12)  %>% \n",
    "  rename(Teams = home_team)"
   ]
  },
  {
   "cell_type": "code",
   "execution_count": 19,
   "id": "bd334669",
   "metadata": {},
   "outputs": [
    {
     "data": {
      "text/html": [
       "<table>\n",
       "<thead><tr><th scope=col>Teams</th><th scope=col>Goals</th></tr></thead>\n",
       "<tbody>\n",
       "\t<tr><td>Manchester City     </td><td>914                 </td></tr>\n",
       "\t<tr><td>Liverpool           </td><td>775                 </td></tr>\n",
       "\t<tr><td>Arsenal             </td><td>737                 </td></tr>\n",
       "\t<tr><td>Manchester United   </td><td>736                 </td></tr>\n",
       "\t<tr><td>Chelsea             </td><td>733                 </td></tr>\n",
       "\t<tr><td>Tottenham Hotspur   </td><td>698                 </td></tr>\n",
       "\t<tr><td>Everton             </td><td>567                 </td></tr>\n",
       "\t<tr><td>West Ham United     </td><td>473                 </td></tr>\n",
       "\t<tr><td>Newcastle United    </td><td>430                 </td></tr>\n",
       "\t<tr><td>Southampton         </td><td>423                 </td></tr>\n",
       "\t<tr><td>Leicester City      </td><td>384                 </td></tr>\n",
       "\t<tr><td>West Bromwich Albion</td><td>363                 </td></tr>\n",
       "</tbody>\n",
       "</table>\n"
      ],
      "text/latex": [
       "\\begin{tabular}{r|ll}\n",
       " Teams & Goals\\\\\n",
       "\\hline\n",
       "\t Manchester City      & 914                 \\\\\n",
       "\t Liverpool            & 775                 \\\\\n",
       "\t Arsenal              & 737                 \\\\\n",
       "\t Manchester United    & 736                 \\\\\n",
       "\t Chelsea              & 733                 \\\\\n",
       "\t Tottenham Hotspur    & 698                 \\\\\n",
       "\t Everton              & 567                 \\\\\n",
       "\t West Ham United      & 473                 \\\\\n",
       "\t Newcastle United     & 430                 \\\\\n",
       "\t Southampton          & 423                 \\\\\n",
       "\t Leicester City       & 384                 \\\\\n",
       "\t West Bromwich Albion & 363                 \\\\\n",
       "\\end{tabular}\n"
      ],
      "text/markdown": [
       "\n",
       "| Teams | Goals |\n",
       "|---|---|\n",
       "| Manchester City      | 914                  |\n",
       "| Liverpool            | 775                  |\n",
       "| Arsenal              | 737                  |\n",
       "| Manchester United    | 736                  |\n",
       "| Chelsea              | 733                  |\n",
       "| Tottenham Hotspur    | 698                  |\n",
       "| Everton              | 567                  |\n",
       "| West Ham United      | 473                  |\n",
       "| Newcastle United     | 430                  |\n",
       "| Southampton          | 423                  |\n",
       "| Leicester City       | 384                  |\n",
       "| West Bromwich Albion | 363                  |\n",
       "\n"
      ],
      "text/plain": [
       "   Teams                Goals\n",
       "1  Manchester City      914  \n",
       "2  Liverpool            775  \n",
       "3  Arsenal              737  \n",
       "4  Manchester United    736  \n",
       "5  Chelsea              733  \n",
       "6  Tottenham Hotspur    698  \n",
       "7  Everton              567  \n",
       "8  West Ham United      473  \n",
       "9  Newcastle United     430  \n",
       "10 Southampton          423  \n",
       "11 Leicester City       384  \n",
       "12 West Bromwich Albion 363  "
      ]
     },
     "metadata": {},
     "output_type": "display_data"
    }
   ],
   "source": [
    "most.goals"
   ]
  },
  {
   "cell_type": "code",
   "execution_count": 26,
   "id": "aaf236a5",
   "metadata": {},
   "outputs": [
    {
     "data": {
      "image/png": "[encoded data removed]",
      "text/plain": [
       "plot without title"
      ]
     },
     "metadata": {},
     "output_type": "display_data"
    }
   ],
   "source": [
    "ggplot(most.goals, aes(reorder(Team, Goals), Goals, fill = Team)) + \n",
    "  geom_bar(stat = 'identity', fill = 'darkslategray4', col = 'black') +\n",
    "  coord_flip() + theme_classic() +  theme(legend.position = 'none')+\n",
    "  geom_text(aes(label = Goals, hjust = -0.05))+\n",
    "  labs(title = 'Most Goals Scored by PL Teams Since 2010', x = 'Teams', tag = '2')"
   ]
  },
  {
   "cell_type": "markdown",
   "id": "ba907c97",
   "metadata": {},
   "source": [
    "## POSSESSION STATS"
   ]
  },
  {
   "cell_type": "markdown",
   "id": "0127e834",
   "metadata": {},
   "source": [
    "### Most Possession in Home Matches"
   ]
  },
  {
   "cell_type": "code",
   "execution_count": 28,
   "id": "c60db900",
   "metadata": {},
   "outputs": [],
   "source": [
    "home.poss = pl %>% group_by(home_team) %>% \n",
    "  summarise(avg.home.poss = mean(home_possession))  %>% \n",
    "  arrange(desc(avg.home.poss))  %>% slice(1:12)"
   ]
  },
  {
   "cell_type": "code",
   "execution_count": 29,
   "id": "8e4902a1",
   "metadata": {},
   "outputs": [
    {
     "data": {
      "text/html": [
       "<table>\n",
       "<thead><tr><th scope=col>home_team</th><th scope=col>avg.home.poss</th></tr></thead>\n",
       "<tbody>\n",
       "\t<tr><td>Manchester City  </td><td>62.68732         </td></tr>\n",
       "\t<tr><td>Leeds United     </td><td>61.69231         </td></tr>\n",
       "\t<tr><td>Liverpool        </td><td>59.82157         </td></tr>\n",
       "\t<tr><td>Arsenal          </td><td>59.17044         </td></tr>\n",
       "\t<tr><td>Chelsea          </td><td>57.87931         </td></tr>\n",
       "\t<tr><td>Manchester United</td><td>57.84926         </td></tr>\n",
       "\t<tr><td>Tottenham Hotspur</td><td>57.01429         </td></tr>\n",
       "\t<tr><td>Swansea City     </td><td>53.69398         </td></tr>\n",
       "\t<tr><td>Wigan Athletic   </td><td>53.24561         </td></tr>\n",
       "\t<tr><td>Southampton      </td><td>52.21939         </td></tr>\n",
       "\t<tr><td>Everton          </td><td>51.69212         </td></tr>\n",
       "\t<tr><td>Blackpool        </td><td>51.30526         </td></tr>\n",
       "</tbody>\n",
       "</table>\n"
      ],
      "text/latex": [
       "\\begin{tabular}{r|ll}\n",
       " home\\_team & avg.home.poss\\\\\n",
       "\\hline\n",
       "\t Manchester City   & 62.68732         \\\\\n",
       "\t Leeds United      & 61.69231         \\\\\n",
       "\t Liverpool         & 59.82157         \\\\\n",
       "\t Arsenal           & 59.17044         \\\\\n",
       "\t Chelsea           & 57.87931         \\\\\n",
       "\t Manchester United & 57.84926         \\\\\n",
       "\t Tottenham Hotspur & 57.01429         \\\\\n",
       "\t Swansea City      & 53.69398         \\\\\n",
       "\t Wigan Athletic    & 53.24561         \\\\\n",
       "\t Southampton       & 52.21939         \\\\\n",
       "\t Everton           & 51.69212         \\\\\n",
       "\t Blackpool         & 51.30526         \\\\\n",
       "\\end{tabular}\n"
      ],
      "text/markdown": [
       "\n",
       "| home_team | avg.home.poss |\n",
       "|---|---|\n",
       "| Manchester City   | 62.68732          |\n",
       "| Leeds United      | 61.69231          |\n",
       "| Liverpool         | 59.82157          |\n",
       "| Arsenal           | 59.17044          |\n",
       "| Chelsea           | 57.87931          |\n",
       "| Manchester United | 57.84926          |\n",
       "| Tottenham Hotspur | 57.01429          |\n",
       "| Swansea City      | 53.69398          |\n",
       "| Wigan Athletic    | 53.24561          |\n",
       "| Southampton       | 52.21939          |\n",
       "| Everton           | 51.69212          |\n",
       "| Blackpool         | 51.30526          |\n",
       "\n"
      ],
      "text/plain": [
       "   home_team         avg.home.poss\n",
       "1  Manchester City   62.68732     \n",
       "2  Leeds United      61.69231     \n",
       "3  Liverpool         59.82157     \n",
       "4  Arsenal           59.17044     \n",
       "5  Chelsea           57.87931     \n",
       "6  Manchester United 57.84926     \n",
       "7  Tottenham Hotspur 57.01429     \n",
       "8  Swansea City      53.69398     \n",
       "9  Wigan Athletic    53.24561     \n",
       "10 Southampton       52.21939     \n",
       "11 Everton           51.69212     \n",
       "12 Blackpool         51.30526     "
      ]
     },
     "metadata": {},
     "output_type": "display_data"
    }
   ],
   "source": [
    "home.poss"
   ]
  },
  {
   "cell_type": "markdown",
   "id": "5aabfa7b",
   "metadata": {},
   "source": [
    "### Most Possession in Away Matches"
   ]
  },
  {
   "cell_type": "code",
   "execution_count": 30,
   "id": "728849c9",
   "metadata": {},
   "outputs": [],
   "source": [
    "away.poss = pl %>% group_by(away_team) %>% \n",
    "  summarise(avg.away.poss = mean(away_possession))  %>% \n",
    "  arrange(desc(avg.away.poss))  %>% slice(1:12)"
   ]
  },
  {
   "cell_type": "code",
   "execution_count": 31,
   "id": "39d55fcb",
   "metadata": {},
   "outputs": [
    {
     "data": {
      "text/html": [
       "<table>\n",
       "<thead><tr><th scope=col>away_team</th><th scope=col>avg.away.poss</th></tr></thead>\n",
       "<tbody>\n",
       "\t<tr><td>Manchester City  </td><td>60.71133         </td></tr>\n",
       "\t<tr><td>Leeds United     </td><td>59.13077         </td></tr>\n",
       "\t<tr><td>Liverpool        </td><td>57.28571         </td></tr>\n",
       "\t<tr><td>Chelsea          </td><td>56.78431         </td></tr>\n",
       "\t<tr><td>Arsenal          </td><td>56.68873         </td></tr>\n",
       "\t<tr><td>Tottenham Hotspur</td><td>55.47624         </td></tr>\n",
       "\t<tr><td>Manchester United</td><td>55.42293         </td></tr>\n",
       "\t<tr><td>Southampton      </td><td>50.96145         </td></tr>\n",
       "\t<tr><td>Swansea City     </td><td>50.91429         </td></tr>\n",
       "\t<tr><td>Everton          </td><td>50.16355         </td></tr>\n",
       "\t<tr><td>Wigan Athletic   </td><td>49.93509         </td></tr>\n",
       "\t<tr><td>Blackpool        </td><td>48.05789         </td></tr>\n",
       "</tbody>\n",
       "</table>\n"
      ],
      "text/latex": [
       "\\begin{tabular}{r|ll}\n",
       " away\\_team & avg.away.poss\\\\\n",
       "\\hline\n",
       "\t Manchester City   & 60.71133         \\\\\n",
       "\t Leeds United      & 59.13077         \\\\\n",
       "\t Liverpool         & 57.28571         \\\\\n",
       "\t Chelsea           & 56.78431         \\\\\n",
       "\t Arsenal           & 56.68873         \\\\\n",
       "\t Tottenham Hotspur & 55.47624         \\\\\n",
       "\t Manchester United & 55.42293         \\\\\n",
       "\t Southampton       & 50.96145         \\\\\n",
       "\t Swansea City      & 50.91429         \\\\\n",
       "\t Everton           & 50.16355         \\\\\n",
       "\t Wigan Athletic    & 49.93509         \\\\\n",
       "\t Blackpool         & 48.05789         \\\\\n",
       "\\end{tabular}\n"
      ],
      "text/markdown": [
       "\n",
       "| away_team | avg.away.poss |\n",
       "|---|---|\n",
       "| Manchester City   | 60.71133          |\n",
       "| Leeds United      | 59.13077          |\n",
       "| Liverpool         | 57.28571          |\n",
       "| Chelsea           | 56.78431          |\n",
       "| Arsenal           | 56.68873          |\n",
       "| Tottenham Hotspur | 55.47624          |\n",
       "| Manchester United | 55.42293          |\n",
       "| Southampton       | 50.96145          |\n",
       "| Swansea City      | 50.91429          |\n",
       "| Everton           | 50.16355          |\n",
       "| Wigan Athletic    | 49.93509          |\n",
       "| Blackpool         | 48.05789          |\n",
       "\n"
      ],
      "text/plain": [
       "   away_team         avg.away.poss\n",
       "1  Manchester City   60.71133     \n",
       "2  Leeds United      59.13077     \n",
       "3  Liverpool         57.28571     \n",
       "4  Chelsea           56.78431     \n",
       "5  Arsenal           56.68873     \n",
       "6  Tottenham Hotspur 55.47624     \n",
       "7  Manchester United 55.42293     \n",
       "8  Southampton       50.96145     \n",
       "9  Swansea City      50.91429     \n",
       "10 Everton           50.16355     \n",
       "11 Wigan Athletic    49.93509     \n",
       "12 Blackpool         48.05789     "
      ]
     },
     "metadata": {},
     "output_type": "display_data"
    }
   ],
   "source": [
    "away.poss"
   ]
  },
  {
   "cell_type": "code",
   "execution_count": 23,
   "id": "a3801383",
   "metadata": {},
   "outputs": [],
   "source": [
    "most.possession = cbind(home.poss, away.poss)"
   ]
  },
  {
   "cell_type": "code",
   "execution_count": 24,
   "id": "3003796b",
   "metadata": {},
   "outputs": [],
   "source": [
    "most.possession = most.possession %>% \n",
    "  mutate(Avg_Possession = round(((avg.home.poss + avg.away.poss)/2),digits = 2)) %>% \n",
    "  select(home_team, Avg_Possession) %>% arrange(desc(Avg_Possession)) %>% slice(1:15)  %>% \n",
    "  rename(Team = home_team)  %>%   mutate(new.col = Avg_Possession/100)"
   ]
  },
  {
   "cell_type": "code",
   "execution_count": 76,
   "id": "5cef7a6d",
   "metadata": {},
   "outputs": [],
   "source": [
    "most.possession$Avg_Possession = paste0(most.possession$Avg_Possession,'%')"
   ]
  },
  {
   "cell_type": "code",
   "execution_count": 77,
   "id": "155b1a57",
   "metadata": {},
   "outputs": [
    {
     "data": {
      "text/html": [
       "<table>\n",
       "<thead><tr><th scope=col>Team</th><th scope=col>Avg_Possession</th></tr></thead>\n",
       "<tbody>\n",
       "\t<tr><td>Manchester City        </td><td>61.7%                  </td></tr>\n",
       "\t<tr><td>Leeds United           </td><td>60.41%                 </td></tr>\n",
       "\t<tr><td>Liverpool              </td><td>58.55%                 </td></tr>\n",
       "\t<tr><td>Arsenal                </td><td>57.93%                 </td></tr>\n",
       "\t<tr><td>Chelsea                </td><td>57.33%                 </td></tr>\n",
       "\t<tr><td>Manchester United      </td><td>56.64%                 </td></tr>\n",
       "\t<tr><td>Tottenham Hotspur      </td><td>56.25%                 </td></tr>\n",
       "\t<tr><td>Swansea City           </td><td>52.3%                  </td></tr>\n",
       "\t<tr><td>Southampton            </td><td>51.59%                 </td></tr>\n",
       "\t<tr><td>Wigan Athletic         </td><td>51.59%                 </td></tr>\n",
       "\t<tr><td>Everton                </td><td>50.93%                 </td></tr>\n",
       "\t<tr><td>Blackpool              </td><td>49.68%                 </td></tr>\n",
       "\t<tr><td>Fulham                 </td><td>48.44%                 </td></tr>\n",
       "\t<tr><td>AFC Bournemouth        </td><td>48.31%                 </td></tr>\n",
       "\t<tr><td>Wolverhampton Wanderers</td><td>48.29%                 </td></tr>\n",
       "</tbody>\n",
       "</table>\n"
      ],
      "text/latex": [
       "\\begin{tabular}{r|ll}\n",
       " Team & Avg\\_Possession\\\\\n",
       "\\hline\n",
       "\t Manchester City         & 61.7\\%                \\\\\n",
       "\t Leeds United            & 60.41\\%               \\\\\n",
       "\t Liverpool               & 58.55\\%               \\\\\n",
       "\t Arsenal                 & 57.93\\%               \\\\\n",
       "\t Chelsea                 & 57.33\\%               \\\\\n",
       "\t Manchester United       & 56.64\\%               \\\\\n",
       "\t Tottenham Hotspur       & 56.25\\%               \\\\\n",
       "\t Swansea City            & 52.3\\%                \\\\\n",
       "\t Southampton             & 51.59\\%               \\\\\n",
       "\t Wigan Athletic          & 51.59\\%               \\\\\n",
       "\t Everton                 & 50.93\\%               \\\\\n",
       "\t Blackpool               & 49.68\\%               \\\\\n",
       "\t Fulham                  & 48.44\\%               \\\\\n",
       "\t AFC Bournemouth         & 48.31\\%               \\\\\n",
       "\t Wolverhampton Wanderers & 48.29\\%               \\\\\n",
       "\\end{tabular}\n"
      ],
      "text/markdown": [
       "\n",
       "| Team | Avg_Possession |\n",
       "|---|---|\n",
       "| Manchester City         | 61.7%                   |\n",
       "| Leeds United            | 60.41%                  |\n",
       "| Liverpool               | 58.55%                  |\n",
       "| Arsenal                 | 57.93%                  |\n",
       "| Chelsea                 | 57.33%                  |\n",
       "| Manchester United       | 56.64%                  |\n",
       "| Tottenham Hotspur       | 56.25%                  |\n",
       "| Swansea City            | 52.3%                   |\n",
       "| Southampton             | 51.59%                  |\n",
       "| Wigan Athletic          | 51.59%                  |\n",
       "| Everton                 | 50.93%                  |\n",
       "| Blackpool               | 49.68%                  |\n",
       "| Fulham                  | 48.44%                  |\n",
       "| AFC Bournemouth         | 48.31%                  |\n",
       "| Wolverhampton Wanderers | 48.29%                  |\n",
       "\n"
      ],
      "text/plain": [
       "   Team                    Avg_Possession\n",
       "1  Manchester City         61.7%         \n",
       "2  Leeds United            60.41%        \n",
       "3  Liverpool               58.55%        \n",
       "4  Arsenal                 57.93%        \n",
       "5  Chelsea                 57.33%        \n",
       "6  Manchester United       56.64%        \n",
       "7  Tottenham Hotspur       56.25%        \n",
       "8  Swansea City            52.3%         \n",
       "9  Southampton             51.59%        \n",
       "10 Wigan Athletic          51.59%        \n",
       "11 Everton                 50.93%        \n",
       "12 Blackpool               49.68%        \n",
       "13 Fulham                  48.44%        \n",
       "14 AFC Bournemouth         48.31%        \n",
       "15 Wolverhampton Wanderers 48.29%        "
      ]
     },
     "metadata": {},
     "output_type": "display_data"
    }
   ],
   "source": [
    "most.possession"
   ]
  },
  {
   "cell_type": "code",
   "execution_count": 32,
   "id": "dd007356",
   "metadata": {},
   "outputs": [
    {
     "data": {
      "image/png": "[encoded data removed]",
      "text/plain": [
       "plot without title"
      ]
     },
     "metadata": {},
     "output_type": "display_data"
    }
   ],
   "source": [
    "ggplot(most.possession, aes(reorder(Team, Avg_Possession),Avg_Possession, fill =Team))+ \n",
    "  geom_bar(stat = 'identity', fill = 'darkslategray4', col = 'black') +\n",
    "  coord_flip() + theme_classic() +  theme(legend.position = 'none')+\n",
    "  geom_text(aes(label = Avg_Possession, hjust = 0.2))+\n",
    "  labs(title = 'Most Possession  PL Teams Since 2010', x = 'Teams', tag = '3',\n",
    "       y = 'Average Possession') +\n",
    "scale_y_continuous(labels = function(Avg_Possession.2) paste0(Avg_Possession.2*100, \"%\"))"
   ]
  },
  {
   "cell_type": "markdown",
   "id": "43cda90b",
   "metadata": {},
   "source": [
    "## MOST WINS"
   ]
  },
  {
   "cell_type": "code",
   "execution_count": 34,
   "id": "35a0fe0c",
   "metadata": {},
   "outputs": [
    {
     "name": "stdout",
     "output_type": "stream",
     "text": [
      "# A tibble: 12 x 2\n",
      "   Team               Wins\n",
      "   <chr>             <int>\n",
      " 1 Manchester City     275\n",
      " 2 Manchester United   232\n",
      " 3 Chelsea             229\n",
      " 4 Liverpool           223\n",
      " 5 Tottenham Hotspur   216\n",
      " 6 Arsenal             215\n",
      " 7 Everton             160\n",
      " 8 West Ham United     118\n",
      " 9 Newcastle United    117\n",
      "10 Southampton         112\n",
      "11 Leicester City      107\n",
      "12 Crystal Palace       94\n"
     ]
    }
   ],
   "source": [
    "most.wins = pl %>% group_by(winner) %>% \n",
    "  summarise(Wins = n()) %>% filter(winner != 'Draw') %>% \n",
    "  arrange(desc(Wins)) %>% rename(Team = winner) %>% slice(1:12) %>% print() "
   ]
  },
  {
   "cell_type": "code",
   "execution_count": 37,
   "id": "2d6df981",
   "metadata": {},
   "outputs": [
    {
     "data": {
      "image/png": "[encoded data removed]",
      "text/plain": [
       "plot without title"
      ]
     },
     "metadata": {},
     "output_type": "display_data"
    }
   ],
   "source": [
    "ggplot(most.wins, aes(reorder(Team, Wins), Wins, fill = Team)) + \n",
    "  geom_bar(stat = 'identity', fill = 'darkslategray4', col = 'black')+ \n",
    "  coord_flip() + theme_classic() +  theme(legend.position = 'none')+\n",
    "  geom_text(aes(label = Wins, hjust = -0.05))+\n",
    "  labs(title = 'Most Wins by PL Teams Since 2010', x = 'Teams', tag = '4',\n",
    "       y = 'Wins')"
   ]
  },
  {
   "cell_type": "code",
   "execution_count": 34,
   "id": "aba5ca30",
   "metadata": {},
   "outputs": [],
   "source": [
    "home.matches =  pl %>% group_by(home_team) %>% \n",
    "  summarise(matches = n()) \n",
    "\n",
    "away.matches = pl %>% group_by(away_team) %>% \n",
    "  summarise(matches.away = n())\n",
    "\n",
    "most.matches = cbind(home.matches, away.matches)\n",
    "\n",
    "most.matches = most.matches %>% mutate(Total.Matches = matches + matches.away) %>% \n",
    "  arrange(desc(Total.Matches)) %>% select(home_team, Total.Matches)"
   ]
  },
  {
   "cell_type": "markdown",
   "id": "c35c7a24",
   "metadata": {},
   "source": [
    "## Goals Per Match Ratio"
   ]
  },
  {
   "cell_type": "markdown",
   "id": "a1d2bd15",
   "metadata": {},
   "source": [
    "### Goals Per Match Ratio in Home Matches"
   ]
  },
  {
   "cell_type": "code",
   "execution_count": 82,
   "id": "2aad9293",
   "metadata": {},
   "outputs": [],
   "source": [
    "home.gpm = cbind(goals.home, home.matches)"
   ]
  },
  {
   "cell_type": "code",
   "execution_count": 148,
   "id": "eedf3b4f",
   "metadata": {},
   "outputs": [
    {
     "data": {
      "text/html": [
       "<table>\n",
       "<thead><tr><th scope=col>Teams</th><th scope=col>Ratio</th></tr></thead>\n",
       "<tbody>\n",
       "\t<tr><td>Manchester City  </td><td>2.570732         </td></tr>\n",
       "\t<tr><td>Liverpool        </td><td>2.098039         </td></tr>\n",
       "\t<tr><td>Arsenal          </td><td>2.039409         </td></tr>\n",
       "\t<tr><td>Chelsea          </td><td>2.014778         </td></tr>\n",
       "\t<tr><td>Manchester United</td><td>2.009852         </td></tr>\n",
       "\t<tr><td>Tottenham Hotspur</td><td>1.832512         </td></tr>\n",
       "\t<tr><td>Everton          </td><td>1.645320         </td></tr>\n",
       "\t<tr><td>Blackpool        </td><td>1.578947         </td></tr>\n",
       "\t<tr><td>Leicester City   </td><td>1.559055         </td></tr>\n",
       "\t<tr><td>Bolton Wanderers </td><td>1.500000         </td></tr>\n",
       "\t<tr><td>Leeds United     </td><td>1.461538         </td></tr>\n",
       "\t<tr><td>West Ham United  </td><td>1.456522         </td></tr>\n",
       "\t<tr><td>AFC Bournemouth  </td><td>1.431579         </td></tr>\n",
       "\t<tr><td>Southampton      </td><td>1.430303         </td></tr>\n",
       "\t<tr><td>Newcastle United </td><td>1.391304         </td></tr>\n",
       "</tbody>\n",
       "</table>\n"
      ],
      "text/latex": [
       "\\begin{tabular}{r|ll}\n",
       " Teams & Ratio\\\\\n",
       "\\hline\n",
       "\t Manchester City   & 2.570732         \\\\\n",
       "\t Liverpool         & 2.098039         \\\\\n",
       "\t Arsenal           & 2.039409         \\\\\n",
       "\t Chelsea           & 2.014778         \\\\\n",
       "\t Manchester United & 2.009852         \\\\\n",
       "\t Tottenham Hotspur & 1.832512         \\\\\n",
       "\t Everton           & 1.645320         \\\\\n",
       "\t Blackpool         & 1.578947         \\\\\n",
       "\t Leicester City    & 1.559055         \\\\\n",
       "\t Bolton Wanderers  & 1.500000         \\\\\n",
       "\t Leeds United      & 1.461538         \\\\\n",
       "\t West Ham United   & 1.456522         \\\\\n",
       "\t AFC Bournemouth   & 1.431579         \\\\\n",
       "\t Southampton       & 1.430303         \\\\\n",
       "\t Newcastle United  & 1.391304         \\\\\n",
       "\\end{tabular}\n"
      ],
      "text/markdown": [
       "\n",
       "| Teams | Ratio |\n",
       "|---|---|\n",
       "| Manchester City   | 2.570732          |\n",
       "| Liverpool         | 2.098039          |\n",
       "| Arsenal           | 2.039409          |\n",
       "| Chelsea           | 2.014778          |\n",
       "| Manchester United | 2.009852          |\n",
       "| Tottenham Hotspur | 1.832512          |\n",
       "| Everton           | 1.645320          |\n",
       "| Blackpool         | 1.578947          |\n",
       "| Leicester City    | 1.559055          |\n",
       "| Bolton Wanderers  | 1.500000          |\n",
       "| Leeds United      | 1.461538          |\n",
       "| West Ham United   | 1.456522          |\n",
       "| AFC Bournemouth   | 1.431579          |\n",
       "| Southampton       | 1.430303          |\n",
       "| Newcastle United  | 1.391304          |\n",
       "\n"
      ],
      "text/plain": [
       "   Teams             Ratio   \n",
       "1  Manchester City   2.570732\n",
       "2  Liverpool         2.098039\n",
       "3  Arsenal           2.039409\n",
       "4  Chelsea           2.014778\n",
       "5  Manchester United 2.009852\n",
       "6  Tottenham Hotspur 1.832512\n",
       "7  Everton           1.645320\n",
       "8  Blackpool         1.578947\n",
       "9  Leicester City    1.559055\n",
       "10 Bolton Wanderers  1.500000\n",
       "11 Leeds United      1.461538\n",
       "12 West Ham United   1.456522\n",
       "13 AFC Bournemouth   1.431579\n",
       "14 Southampton       1.430303\n",
       "15 Newcastle United  1.391304"
      ]
     },
     "metadata": {},
     "output_type": "display_data"
    }
   ],
   "source": [
    "ratio.gpm.home = home.gpm %>% mutate(Ratio = goals.h/matches) %>% \n",
    "  select(home_team, Ratio)  %>% arrange(desc(Ratio))  %>% slice(1:15) %>% rename(Teams = home_team)\n",
    "  \n",
    "ratio.gpm.home"
   ]
  },
  {
   "cell_type": "code",
   "execution_count": null,
   "id": "fbfd7ba0",
   "metadata": {},
   "outputs": [],
   "source": [
    "away.gpm = cbind(goals.away, away.matches)"
   ]
  },
  {
   "cell_type": "code",
   "execution_count": 151,
   "id": "8ee7df5c",
   "metadata": {},
   "outputs": [
    {
     "data": {
      "text/html": [
       "<table>\n",
       "<thead><tr><th scope=col>Teams</th><th scope=col>A.Ratio</th></tr></thead>\n",
       "<tbody>\n",
       "\t<tr><td>Manchester City  </td><td>1.906404         </td></tr>\n",
       "\t<tr><td>Leeds United     </td><td>1.846154         </td></tr>\n",
       "\t<tr><td>Liverpool        </td><td>1.709360         </td></tr>\n",
       "\t<tr><td>Tottenham Hotspur</td><td>1.613861         </td></tr>\n",
       "\t<tr><td>Manchester United</td><td>1.600000         </td></tr>\n",
       "\t<tr><td>Chelsea          </td><td>1.588235         </td></tr>\n",
       "\t<tr><td>Arsenal          </td><td>1.583333         </td></tr>\n",
       "\t<tr><td>Leicester City   </td><td>1.441860         </td></tr>\n",
       "\t<tr><td>Blackpool        </td><td>1.315789         </td></tr>\n",
       "\t<tr><td>Blackburn Rovers </td><td>1.210526         </td></tr>\n",
       "\t<tr><td>Everton          </td><td>1.147783         </td></tr>\n",
       "\t<tr><td>Crystal Palace   </td><td>1.136986         </td></tr>\n",
       "</tbody>\n",
       "</table>\n"
      ],
      "text/latex": [
       "\\begin{tabular}{r|ll}\n",
       " Teams & A.Ratio\\\\\n",
       "\\hline\n",
       "\t Manchester City   & 1.906404         \\\\\n",
       "\t Leeds United      & 1.846154         \\\\\n",
       "\t Liverpool         & 1.709360         \\\\\n",
       "\t Tottenham Hotspur & 1.613861         \\\\\n",
       "\t Manchester United & 1.600000         \\\\\n",
       "\t Chelsea           & 1.588235         \\\\\n",
       "\t Arsenal           & 1.583333         \\\\\n",
       "\t Leicester City    & 1.441860         \\\\\n",
       "\t Blackpool         & 1.315789         \\\\\n",
       "\t Blackburn Rovers  & 1.210526         \\\\\n",
       "\t Everton           & 1.147783         \\\\\n",
       "\t Crystal Palace    & 1.136986         \\\\\n",
       "\\end{tabular}\n"
      ],
      "text/markdown": [
       "\n",
       "| Teams | A.Ratio |\n",
       "|---|---|\n",
       "| Manchester City   | 1.906404          |\n",
       "| Leeds United      | 1.846154          |\n",
       "| Liverpool         | 1.709360          |\n",
       "| Tottenham Hotspur | 1.613861          |\n",
       "| Manchester United | 1.600000          |\n",
       "| Chelsea           | 1.588235          |\n",
       "| Arsenal           | 1.583333          |\n",
       "| Leicester City    | 1.441860          |\n",
       "| Blackpool         | 1.315789          |\n",
       "| Blackburn Rovers  | 1.210526          |\n",
       "| Everton           | 1.147783          |\n",
       "| Crystal Palace    | 1.136986          |\n",
       "\n"
      ],
      "text/plain": [
       "   Teams             A.Ratio \n",
       "1  Manchester City   1.906404\n",
       "2  Leeds United      1.846154\n",
       "3  Liverpool         1.709360\n",
       "4  Tottenham Hotspur 1.613861\n",
       "5  Manchester United 1.600000\n",
       "6  Chelsea           1.588235\n",
       "7  Arsenal           1.583333\n",
       "8  Leicester City    1.441860\n",
       "9  Blackpool         1.315789\n",
       "10 Blackburn Rovers  1.210526\n",
       "11 Everton           1.147783\n",
       "12 Crystal Palace    1.136986"
      ]
     },
     "metadata": {},
     "output_type": "display_data"
    }
   ],
   "source": [
    "ratio.gpm.away = away.gpm %>% mutate(A.Ratio = goals.aw/matches.away) %>% \n",
    "  select(col2, A.Ratio)  %>% rename(Teams = col2)  %>% arrange(desc(A.Ratio)) %>% slice(1:12)\n",
    "\n",
    "ratio.gpm.away"
   ]
  },
  {
   "cell_type": "code",
   "execution_count": 87,
   "id": "9263d3cf",
   "metadata": {},
   "outputs": [],
   "source": [
    "goals.per.match = cbind(ratio.gpm.home, ratio.gpm.away)"
   ]
  },
  {
   "cell_type": "code",
   "execution_count": 88,
   "id": "8751c193",
   "metadata": {},
   "outputs": [],
   "source": [
    "goals.per.match = goals.per.match %>% \n",
    "  mutate(Goals.Per.Matches= round((Ratio+A.Ratio)/2, digits = 3)) %>% \n",
    "  select(home_team, Goals.Per.Matches) "
   ]
  },
  {
   "cell_type": "code",
   "execution_count": 65,
   "id": "498d425c",
   "metadata": {},
   "outputs": [
    {
     "data": {
      "text/html": [
       "<table>\n",
       "<thead><tr><th scope=col>Teams</th><th scope=col>Goals.Per.Matches</th></tr></thead>\n",
       "<tbody>\n",
       "\t<tr><td>Manchester City  </td><td>2.239            </td></tr>\n",
       "\t<tr><td>Liverpool        </td><td>1.904            </td></tr>\n",
       "\t<tr><td>Arsenal          </td><td>1.811            </td></tr>\n",
       "\t<tr><td>Manchester United</td><td>1.805            </td></tr>\n",
       "\t<tr><td>Chelsea          </td><td>1.802            </td></tr>\n",
       "\t<tr><td>Tottenham Hotspur</td><td>1.723            </td></tr>\n",
       "\t<tr><td>Leeds United     </td><td>1.654            </td></tr>\n",
       "\t<tr><td>Leicester City   </td><td>1.500            </td></tr>\n",
       "\t<tr><td>Blackpool        </td><td>1.447            </td></tr>\n",
       "\t<tr><td>Everton          </td><td>1.397            </td></tr>\n",
       "</tbody>\n",
       "</table>\n"
      ],
      "text/latex": [
       "\\begin{tabular}{r|ll}\n",
       " Teams & Goals.Per.Matches\\\\\n",
       "\\hline\n",
       "\t Manchester City   & 2.239            \\\\\n",
       "\t Liverpool         & 1.904            \\\\\n",
       "\t Arsenal           & 1.811            \\\\\n",
       "\t Manchester United & 1.805            \\\\\n",
       "\t Chelsea           & 1.802            \\\\\n",
       "\t Tottenham Hotspur & 1.723            \\\\\n",
       "\t Leeds United      & 1.654            \\\\\n",
       "\t Leicester City    & 1.500            \\\\\n",
       "\t Blackpool         & 1.447            \\\\\n",
       "\t Everton           & 1.397            \\\\\n",
       "\\end{tabular}\n"
      ],
      "text/markdown": [
       "\n",
       "| Teams | Goals.Per.Matches |\n",
       "|---|---|\n",
       "| Manchester City   | 2.239             |\n",
       "| Liverpool         | 1.904             |\n",
       "| Arsenal           | 1.811             |\n",
       "| Manchester United | 1.805             |\n",
       "| Chelsea           | 1.802             |\n",
       "| Tottenham Hotspur | 1.723             |\n",
       "| Leeds United      | 1.654             |\n",
       "| Leicester City    | 1.500             |\n",
       "| Blackpool         | 1.447             |\n",
       "| Everton           | 1.397             |\n",
       "\n"
      ],
      "text/plain": [
       "   Teams             Goals.Per.Matches\n",
       "1  Manchester City   2.239            \n",
       "2  Liverpool         1.904            \n",
       "3  Arsenal           1.811            \n",
       "4  Manchester United 1.805            \n",
       "5  Chelsea           1.802            \n",
       "6  Tottenham Hotspur 1.723            \n",
       "7  Leeds United      1.654            \n",
       "8  Leicester City    1.500            \n",
       "9  Blackpool         1.447            \n",
       "10 Everton           1.397            "
      ]
     },
     "metadata": {},
     "output_type": "display_data"
    }
   ],
   "source": [
    "goals.per.match.top10 = goals.per.match %>% slice(1:10) %>% \n",
    "  rename(Teams = home_team)\n",
    "\n",
    "goals.per.match.top10"
   ]
  },
  {
   "cell_type": "code",
   "execution_count": 66,
   "id": "223d6dab",
   "metadata": {},
   "outputs": [
    {
     "data": {
      "text/html": [
       "<table>\n",
       "<thead><tr><th></th><th scope=col>home_team</th><th scope=col>Goals.Per.Matches</th></tr></thead>\n",
       "<tbody>\n",
       "\t<tr><th scope=row>23</th><td>Crystal Palace          </td><td>1.110                   </td></tr>\n",
       "\t<tr><th scope=row>24</th><td>West Bromwich Albion    </td><td>1.092                   </td></tr>\n",
       "\t<tr><th scope=row>25</th><td>Stoke City              </td><td>1.072                   </td></tr>\n",
       "\t<tr><th scope=row>26</th><td>Aston Villa             </td><td>1.055                   </td></tr>\n",
       "\t<tr><th scope=row>27</th><td>Sunderland              </td><td>1.053                   </td></tr>\n",
       "\t<tr><th scope=row>28</th><td>Queens Park Rangers     </td><td>1.009                   </td></tr>\n",
       "\t<tr><th scope=row>29</th><td>Norwich City            </td><td>0.979                   </td></tr>\n",
       "\t<tr><th scope=row>30</th><td>Birmingham City         </td><td>0.974                   </td></tr>\n",
       "\t<tr><th scope=row>31</th><td>Burnley                 </td><td>0.967                   </td></tr>\n",
       "\t<tr><th scope=row>32</th><td>Brighton and Hove Albion</td><td>0.957                   </td></tr>\n",
       "\t<tr><th scope=row>33</th><td>Hull City               </td><td>0.947                   </td></tr>\n",
       "\t<tr><th scope=row>34</th><td>Cardiff City            </td><td>0.868                   </td></tr>\n",
       "\t<tr><th scope=row>35</th><td>Sheffield United        </td><td>0.828                   </td></tr>\n",
       "\t<tr><th scope=row>36</th><td>Middlesbrough           </td><td>0.711                   </td></tr>\n",
       "\t<tr><th scope=row>37</th><td>Huddersfield Town       </td><td>0.658                   </td></tr>\n",
       "</tbody>\n",
       "</table>\n"
      ],
      "text/latex": [
       "\\begin{tabular}{r|ll}\n",
       "  & home\\_team & Goals.Per.Matches\\\\\n",
       "\\hline\n",
       "\t23 & Crystal Palace           & 1.110                   \\\\\n",
       "\t24 & West Bromwich Albion     & 1.092                   \\\\\n",
       "\t25 & Stoke City               & 1.072                   \\\\\n",
       "\t26 & Aston Villa              & 1.055                   \\\\\n",
       "\t27 & Sunderland               & 1.053                   \\\\\n",
       "\t28 & Queens Park Rangers      & 1.009                   \\\\\n",
       "\t29 & Norwich City             & 0.979                   \\\\\n",
       "\t30 & Birmingham City          & 0.974                   \\\\\n",
       "\t31 & Burnley                  & 0.967                   \\\\\n",
       "\t32 & Brighton and Hove Albion & 0.957                   \\\\\n",
       "\t33 & Hull City                & 0.947                   \\\\\n",
       "\t34 & Cardiff City             & 0.868                   \\\\\n",
       "\t35 & Sheffield United         & 0.828                   \\\\\n",
       "\t36 & Middlesbrough            & 0.711                   \\\\\n",
       "\t37 & Huddersfield Town        & 0.658                   \\\\\n",
       "\\end{tabular}\n"
      ],
      "text/markdown": [
       "\n",
       "| <!--/--> | home_team | Goals.Per.Matches |\n",
       "|---|---|---|\n",
       "| 23 | Crystal Palace           | 1.110                    |\n",
       "| 24 | West Bromwich Albion     | 1.092                    |\n",
       "| 25 | Stoke City               | 1.072                    |\n",
       "| 26 | Aston Villa              | 1.055                    |\n",
       "| 27 | Sunderland               | 1.053                    |\n",
       "| 28 | Queens Park Rangers      | 1.009                    |\n",
       "| 29 | Norwich City             | 0.979                    |\n",
       "| 30 | Birmingham City          | 0.974                    |\n",
       "| 31 | Burnley                  | 0.967                    |\n",
       "| 32 | Brighton and Hove Albion | 0.957                    |\n",
       "| 33 | Hull City                | 0.947                    |\n",
       "| 34 | Cardiff City             | 0.868                    |\n",
       "| 35 | Sheffield United         | 0.828                    |\n",
       "| 36 | Middlesbrough            | 0.711                    |\n",
       "| 37 | Huddersfield Town        | 0.658                    |\n",
       "\n"
      ],
      "text/plain": [
       "   home_team                Goals.Per.Matches\n",
       "23 Crystal Palace           1.110            \n",
       "24 West Bromwich Albion     1.092            \n",
       "25 Stoke City               1.072            \n",
       "26 Aston Villa              1.055            \n",
       "27 Sunderland               1.053            \n",
       "28 Queens Park Rangers      1.009            \n",
       "29 Norwich City             0.979            \n",
       "30 Birmingham City          0.974            \n",
       "31 Burnley                  0.967            \n",
       "32 Brighton and Hove Albion 0.957            \n",
       "33 Hull City                0.947            \n",
       "34 Cardiff City             0.868            \n",
       "35 Sheffield United         0.828            \n",
       "36 Middlesbrough            0.711            \n",
       "37 Huddersfield Town        0.658            "
      ]
     },
     "metadata": {},
     "output_type": "display_data"
    }
   ],
   "source": [
    "goals.per.match.last15 = goals.per.match[23:37, ]\n",
    "\n",
    "goals.per.match.last15"
   ]
  },
  {
   "cell_type": "code",
   "execution_count": 69,
   "id": "3d889414",
   "metadata": {},
   "outputs": [
    {
     "data": {
      "image/png": "[encoded data removed]",
      "text/plain": [
       "plot without title"
      ]
     },
     "metadata": {},
     "output_type": "display_data"
    }
   ],
   "source": [
    "ggplot(goals.per.match.top10, aes(reorder(Teams, Goals.Per.Matches),Goals.Per.Matches))+\n",
    "  geom_bar(stat = 'identity', fill = 'darkslategray4', col = 'black')+ \n",
    "  coord_flip() + theme_classic() +  theme(legend.position = 'none')+\n",
    "  geom_text(aes(label = Goals.Per.Matches, hjust = -0.15))+\n",
    "  labs(title = 'Highest Goal per Match Ratio by PL Teams Since 2010',\n",
    "       x = 'Teams', tag = '5', y = 'Goal per Match Ratio')"
   ]
  },
  {
   "cell_type": "markdown",
   "id": "beed8b01",
   "metadata": {},
   "source": [
    "## MOST SHOTS TAKEN"
   ]
  },
  {
   "cell_type": "markdown",
   "id": "5f86de52",
   "metadata": {},
   "source": [
    "### Most Shots Taken per Match in Home Matches"
   ]
  },
  {
   "cell_type": "code",
   "execution_count": 130,
   "id": "54a03887",
   "metadata": {},
   "outputs": [],
   "source": [
    "shots.home = pl %>% group_by(home_team) %>% \n",
    "  summarise(h.shots = sum(home_shots))  %>% \n",
    "  rename(Teams= home_team)"
   ]
  },
  {
   "cell_type": "code",
   "execution_count": 131,
   "id": "c9e4689e",
   "metadata": {},
   "outputs": [],
   "source": [
    "shots.home = cbind(home.matches,shots.home)"
   ]
  },
  {
   "cell_type": "code",
   "execution_count": 132,
   "id": "8944d013",
   "metadata": {},
   "outputs": [],
   "source": [
    "shots.home = shots.home %>% \n",
    "  mutate(var1 = round(h.shots/matches, digits = 2)) %>% \n",
    "  select(Teams, var1)  %>% arrange(desc(var1))  %>% slice(1:15)  "
   ]
  },
  {
   "cell_type": "code",
   "execution_count": 133,
   "id": "1cc2d6ca",
   "metadata": {},
   "outputs": [
    {
     "data": {
      "text/html": [
       "<table>\n",
       "<thead><tr><th scope=col>Teams</th><th scope=col>var1</th></tr></thead>\n",
       "<tbody>\n",
       "\t<tr><td>Manchester City    </td><td>18.75              </td></tr>\n",
       "\t<tr><td>Liverpool          </td><td>18.39              </td></tr>\n",
       "\t<tr><td>Chelsea            </td><td>17.87              </td></tr>\n",
       "\t<tr><td>Tottenham Hotspur  </td><td>17.48              </td></tr>\n",
       "\t<tr><td>Arsenal            </td><td>16.41              </td></tr>\n",
       "\t<tr><td>Manchester United  </td><td>16.13              </td></tr>\n",
       "\t<tr><td>Queens Park Rangers</td><td>15.44              </td></tr>\n",
       "\t<tr><td>Blackpool          </td><td>15.42              </td></tr>\n",
       "\t<tr><td>Fulham             </td><td>14.84              </td></tr>\n",
       "\t<tr><td>Bolton Wanderers   </td><td>14.82              </td></tr>\n",
       "\t<tr><td>Wigan Athletic     </td><td>14.75              </td></tr>\n",
       "\t<tr><td>Everton            </td><td>14.43              </td></tr>\n",
       "\t<tr><td>Southampton        </td><td>14.32              </td></tr>\n",
       "\t<tr><td>Newcastle United   </td><td>14.26              </td></tr>\n",
       "\t<tr><td>Leeds United       </td><td>14.15              </td></tr>\n",
       "</tbody>\n",
       "</table>\n"
      ],
      "text/latex": [
       "\\begin{tabular}{r|ll}\n",
       " Teams & var1\\\\\n",
       "\\hline\n",
       "\t Manchester City     & 18.75              \\\\\n",
       "\t Liverpool           & 18.39              \\\\\n",
       "\t Chelsea             & 17.87              \\\\\n",
       "\t Tottenham Hotspur   & 17.48              \\\\\n",
       "\t Arsenal             & 16.41              \\\\\n",
       "\t Manchester United   & 16.13              \\\\\n",
       "\t Queens Park Rangers & 15.44              \\\\\n",
       "\t Blackpool           & 15.42              \\\\\n",
       "\t Fulham              & 14.84              \\\\\n",
       "\t Bolton Wanderers    & 14.82              \\\\\n",
       "\t Wigan Athletic      & 14.75              \\\\\n",
       "\t Everton             & 14.43              \\\\\n",
       "\t Southampton         & 14.32              \\\\\n",
       "\t Newcastle United    & 14.26              \\\\\n",
       "\t Leeds United        & 14.15              \\\\\n",
       "\\end{tabular}\n"
      ],
      "text/markdown": [
       "\n",
       "| Teams | var1 |\n",
       "|---|---|\n",
       "| Manchester City     | 18.75               |\n",
       "| Liverpool           | 18.39               |\n",
       "| Chelsea             | 17.87               |\n",
       "| Tottenham Hotspur   | 17.48               |\n",
       "| Arsenal             | 16.41               |\n",
       "| Manchester United   | 16.13               |\n",
       "| Queens Park Rangers | 15.44               |\n",
       "| Blackpool           | 15.42               |\n",
       "| Fulham              | 14.84               |\n",
       "| Bolton Wanderers    | 14.82               |\n",
       "| Wigan Athletic      | 14.75               |\n",
       "| Everton             | 14.43               |\n",
       "| Southampton         | 14.32               |\n",
       "| Newcastle United    | 14.26               |\n",
       "| Leeds United        | 14.15               |\n",
       "\n"
      ],
      "text/plain": [
       "   Teams               var1 \n",
       "1  Manchester City     18.75\n",
       "2  Liverpool           18.39\n",
       "3  Chelsea             17.87\n",
       "4  Tottenham Hotspur   17.48\n",
       "5  Arsenal             16.41\n",
       "6  Manchester United   16.13\n",
       "7  Queens Park Rangers 15.44\n",
       "8  Blackpool           15.42\n",
       "9  Fulham              14.84\n",
       "10 Bolton Wanderers    14.82\n",
       "11 Wigan Athletic      14.75\n",
       "12 Everton             14.43\n",
       "13 Southampton         14.32\n",
       "14 Newcastle United    14.26\n",
       "15 Leeds United        14.15"
      ]
     },
     "metadata": {},
     "output_type": "display_data"
    }
   ],
   "source": [
    "shots.home"
   ]
  },
  {
   "cell_type": "markdown",
   "id": "3a659103",
   "metadata": {},
   "source": [
    "### Most Shots Taken at Away Matches"
   ]
  },
  {
   "cell_type": "code",
   "execution_count": 140,
   "id": "e0f7daac",
   "metadata": {},
   "outputs": [],
   "source": [
    "shots.away = pl %>% group_by(away_team) %>% \n",
    "  summarise(a.shots = sum(away_shots))  %>% \n",
    "  rename(a.team = away_team)"
   ]
  },
  {
   "cell_type": "code",
   "execution_count": 141,
   "id": "e5497739",
   "metadata": {},
   "outputs": [],
   "source": [
    "shots.away = cbind(away.matches, shots.away)"
   ]
  },
  {
   "cell_type": "code",
   "execution_count": 142,
   "id": "f2ac792d",
   "metadata": {},
   "outputs": [],
   "source": [
    "shots.away = shots.away %>% \n",
    "  mutate(var2 = round(a.shots/matches.away, 2)) %>% select(away_team, var2) %>% \n",
    "  arrange(desc(var2))  %>% slice(1:15) "
   ]
  },
  {
   "cell_type": "code",
   "execution_count": 143,
   "id": "c7a836f7",
   "metadata": {},
   "outputs": [
    {
     "data": {
      "text/html": [
       "<table>\n",
       "<thead><tr><th scope=col>away_team</th><th scope=col>var2</th></tr></thead>\n",
       "<tbody>\n",
       "\t<tr><td>Manchester City    </td><td>15.89              </td></tr>\n",
       "\t<tr><td>Chelsea            </td><td>14.66              </td></tr>\n",
       "\t<tr><td>Liverpool          </td><td>14.56              </td></tr>\n",
       "\t<tr><td>Leeds United       </td><td>14.08              </td></tr>\n",
       "\t<tr><td>Tottenham Hotspur  </td><td>13.94              </td></tr>\n",
       "\t<tr><td>Bolton Wanderers   </td><td>13.21              </td></tr>\n",
       "\t<tr><td>Arsenal            </td><td>12.81              </td></tr>\n",
       "\t<tr><td>Manchester United  </td><td>12.59              </td></tr>\n",
       "\t<tr><td>Blackpool          </td><td>12.53              </td></tr>\n",
       "\t<tr><td>Queens Park Rangers</td><td>12.16              </td></tr>\n",
       "\t<tr><td>Wigan Athletic     </td><td>12.09              </td></tr>\n",
       "\t<tr><td>Southampton        </td><td>11.92              </td></tr>\n",
       "\t<tr><td>Everton            </td><td>11.91              </td></tr>\n",
       "\t<tr><td>Leicester City     </td><td>11.57              </td></tr>\n",
       "\t<tr><td>West Ham United    </td><td>11.12              </td></tr>\n",
       "</tbody>\n",
       "</table>\n"
      ],
      "text/latex": [
       "\\begin{tabular}{r|ll}\n",
       " away\\_team & var2\\\\\n",
       "\\hline\n",
       "\t Manchester City     & 15.89              \\\\\n",
       "\t Chelsea             & 14.66              \\\\\n",
       "\t Liverpool           & 14.56              \\\\\n",
       "\t Leeds United        & 14.08              \\\\\n",
       "\t Tottenham Hotspur   & 13.94              \\\\\n",
       "\t Bolton Wanderers    & 13.21              \\\\\n",
       "\t Arsenal             & 12.81              \\\\\n",
       "\t Manchester United   & 12.59              \\\\\n",
       "\t Blackpool           & 12.53              \\\\\n",
       "\t Queens Park Rangers & 12.16              \\\\\n",
       "\t Wigan Athletic      & 12.09              \\\\\n",
       "\t Southampton         & 11.92              \\\\\n",
       "\t Everton             & 11.91              \\\\\n",
       "\t Leicester City      & 11.57              \\\\\n",
       "\t West Ham United     & 11.12              \\\\\n",
       "\\end{tabular}\n"
      ],
      "text/markdown": [
       "\n",
       "| away_team | var2 |\n",
       "|---|---|\n",
       "| Manchester City     | 15.89               |\n",
       "| Chelsea             | 14.66               |\n",
       "| Liverpool           | 14.56               |\n",
       "| Leeds United        | 14.08               |\n",
       "| Tottenham Hotspur   | 13.94               |\n",
       "| Bolton Wanderers    | 13.21               |\n",
       "| Arsenal             | 12.81               |\n",
       "| Manchester United   | 12.59               |\n",
       "| Blackpool           | 12.53               |\n",
       "| Queens Park Rangers | 12.16               |\n",
       "| Wigan Athletic      | 12.09               |\n",
       "| Southampton         | 11.92               |\n",
       "| Everton             | 11.91               |\n",
       "| Leicester City      | 11.57               |\n",
       "| West Ham United     | 11.12               |\n",
       "\n"
      ],
      "text/plain": [
       "   away_team           var2 \n",
       "1  Manchester City     15.89\n",
       "2  Chelsea             14.66\n",
       "3  Liverpool           14.56\n",
       "4  Leeds United        14.08\n",
       "5  Tottenham Hotspur   13.94\n",
       "6  Bolton Wanderers    13.21\n",
       "7  Arsenal             12.81\n",
       "8  Manchester United   12.59\n",
       "9  Blackpool           12.53\n",
       "10 Queens Park Rangers 12.16\n",
       "11 Wigan Athletic      12.09\n",
       "12 Southampton         11.92\n",
       "13 Everton             11.91\n",
       "14 Leicester City      11.57\n",
       "15 West Ham United     11.12"
      ]
     },
     "metadata": {},
     "output_type": "display_data"
    }
   ],
   "source": [
    "shots.away"
   ]
  },
  {
   "cell_type": "code",
   "execution_count": 125,
   "id": "03305e58",
   "metadata": {},
   "outputs": [],
   "source": [
    "shots = cbind(shots.home, shots.away)"
   ]
  },
  {
   "cell_type": "code",
   "execution_count": 126,
   "id": "4c0bb170",
   "metadata": {},
   "outputs": [],
   "source": [
    "shots = shots %>% mutate(Shots.per.match = round((var1+var2)/2,digits = 2 )) %>% \n",
    "  select(Teams, Shots.per.match)  %>% arrange(desc(Shots.per.match)) %>% slice(1:18)"
   ]
  },
  {
   "cell_type": "code",
   "execution_count": 127,
   "id": "f6e3da7d",
   "metadata": {},
   "outputs": [
    {
     "data": {
      "text/html": [
       "<table>\n",
       "<thead><tr><th scope=col>Teams</th><th scope=col>Shots.per.match</th></tr></thead>\n",
       "<tbody>\n",
       "\t<tr><td>Manchester City        </td><td>17.32                  </td></tr>\n",
       "\t<tr><td>Liverpool              </td><td>16.48                  </td></tr>\n",
       "\t<tr><td>Chelsea                </td><td>16.27                  </td></tr>\n",
       "\t<tr><td>Tottenham Hotspur      </td><td>15.71                  </td></tr>\n",
       "\t<tr><td>Arsenal                </td><td>14.61                  </td></tr>\n",
       "\t<tr><td>Manchester United      </td><td>14.36                  </td></tr>\n",
       "\t<tr><td>Leeds United           </td><td>14.12                  </td></tr>\n",
       "\t<tr><td>Bolton Wanderers       </td><td>14.02                  </td></tr>\n",
       "\t<tr><td>Blackpool              </td><td>13.97                  </td></tr>\n",
       "\t<tr><td>Queens Park Rangers    </td><td>13.80                  </td></tr>\n",
       "\t<tr><td>Wigan Athletic         </td><td>13.42                  </td></tr>\n",
       "\t<tr><td>Everton                </td><td>13.17                  </td></tr>\n",
       "\t<tr><td>Southampton            </td><td>13.12                  </td></tr>\n",
       "\t<tr><td>Fulham                 </td><td>12.68                  </td></tr>\n",
       "\t<tr><td>Leicester City         </td><td>12.62                  </td></tr>\n",
       "\t<tr><td>West Ham United        </td><td>12.42                  </td></tr>\n",
       "\t<tr><td>Newcastle United       </td><td>12.31                  </td></tr>\n",
       "\t<tr><td>Wolverhampton Wanderers</td><td>12.23                  </td></tr>\n",
       "</tbody>\n",
       "</table>\n"
      ],
      "text/latex": [
       "\\begin{tabular}{r|ll}\n",
       " Teams & Shots.per.match\\\\\n",
       "\\hline\n",
       "\t Manchester City         & 17.32                  \\\\\n",
       "\t Liverpool               & 16.48                  \\\\\n",
       "\t Chelsea                 & 16.27                  \\\\\n",
       "\t Tottenham Hotspur       & 15.71                  \\\\\n",
       "\t Arsenal                 & 14.61                  \\\\\n",
       "\t Manchester United       & 14.36                  \\\\\n",
       "\t Leeds United            & 14.12                  \\\\\n",
       "\t Bolton Wanderers        & 14.02                  \\\\\n",
       "\t Blackpool               & 13.97                  \\\\\n",
       "\t Queens Park Rangers     & 13.80                  \\\\\n",
       "\t Wigan Athletic          & 13.42                  \\\\\n",
       "\t Everton                 & 13.17                  \\\\\n",
       "\t Southampton             & 13.12                  \\\\\n",
       "\t Fulham                  & 12.68                  \\\\\n",
       "\t Leicester City          & 12.62                  \\\\\n",
       "\t West Ham United         & 12.42                  \\\\\n",
       "\t Newcastle United        & 12.31                  \\\\\n",
       "\t Wolverhampton Wanderers & 12.23                  \\\\\n",
       "\\end{tabular}\n"
      ],
      "text/markdown": [
       "\n",
       "| Teams | Shots.per.match |\n",
       "|---|---|\n",
       "| Manchester City         | 17.32                   |\n",
       "| Liverpool               | 16.48                   |\n",
       "| Chelsea                 | 16.27                   |\n",
       "| Tottenham Hotspur       | 15.71                   |\n",
       "| Arsenal                 | 14.61                   |\n",
       "| Manchester United       | 14.36                   |\n",
       "| Leeds United            | 14.12                   |\n",
       "| Bolton Wanderers        | 14.02                   |\n",
       "| Blackpool               | 13.97                   |\n",
       "| Queens Park Rangers     | 13.80                   |\n",
       "| Wigan Athletic          | 13.42                   |\n",
       "| Everton                 | 13.17                   |\n",
       "| Southampton             | 13.12                   |\n",
       "| Fulham                  | 12.68                   |\n",
       "| Leicester City          | 12.62                   |\n",
       "| West Ham United         | 12.42                   |\n",
       "| Newcastle United        | 12.31                   |\n",
       "| Wolverhampton Wanderers | 12.23                   |\n",
       "\n"
      ],
      "text/plain": [
       "   Teams                   Shots.per.match\n",
       "1  Manchester City         17.32          \n",
       "2  Liverpool               16.48          \n",
       "3  Chelsea                 16.27          \n",
       "4  Tottenham Hotspur       15.71          \n",
       "5  Arsenal                 14.61          \n",
       "6  Manchester United       14.36          \n",
       "7  Leeds United            14.12          \n",
       "8  Bolton Wanderers        14.02          \n",
       "9  Blackpool               13.97          \n",
       "10 Queens Park Rangers     13.80          \n",
       "11 Wigan Athletic          13.42          \n",
       "12 Everton                 13.17          \n",
       "13 Southampton             13.12          \n",
       "14 Fulham                  12.68          \n",
       "15 Leicester City          12.62          \n",
       "16 West Ham United         12.42          \n",
       "17 Newcastle United        12.31          \n",
       "18 Wolverhampton Wanderers 12.23          "
      ]
     },
     "metadata": {},
     "output_type": "display_data"
    }
   ],
   "source": [
    "shots"
   ]
  },
  {
   "cell_type": "code",
   "execution_count": 76,
   "id": "c50f33e0",
   "metadata": {},
   "outputs": [
    {
     "data": {
      "image/png": "[encoded data removed]",
      "text/plain": [
       "plot without title"
      ]
     },
     "metadata": {},
     "output_type": "display_data"
    }
   ],
   "source": [
    "ggplot(shots, aes(reorder(Teams, Shots.per.match), Shots.per.match)) + \n",
    "  geom_bar(stat = 'identity', fill = 'darkslategray4', col = 'black')+ \n",
    "  coord_flip() + theme_classic() +  theme(legend.position = 'none')+\n",
    "  geom_text(aes(label = Shots.per.match, hjust = -0.15))+\n",
    "  labs(title = 'Most Shots Taken per Match by PL Teams Since 2010',\n",
    "       x = 'Teams', tag = '6', y = 'Shots')"
   ]
  },
  {
   "cell_type": "markdown",
   "id": "7099aecd",
   "metadata": {},
   "source": [
    "## SHOTS ON TARGET"
   ]
  },
  {
   "cell_type": "markdown",
   "id": "8a7ff3d9",
   "metadata": {},
   "source": [
    "### In Home Matches"
   ]
  },
  {
   "cell_type": "code",
   "execution_count": 66,
   "id": "929612f4",
   "metadata": {},
   "outputs": [],
   "source": [
    "shots.h.target = pl %>% group_by(home_team) %>% \n",
    "  summarise(h.shots = sum(home_shots_on_target))  %>% \n",
    "  rename(col1 = home_team)"
   ]
  },
  {
   "cell_type": "code",
   "execution_count": 67,
   "id": "6bcf74d8",
   "metadata": {},
   "outputs": [],
   "source": [
    "shots.h.target = cbind(home.matches,shots.h.target)"
   ]
  },
  {
   "cell_type": "code",
   "execution_count": 68,
   "id": "2aca6f55",
   "metadata": {},
   "outputs": [],
   "source": [
    "shots.h.target = shots.h.target %>% \n",
    "  mutate(var1 = round(h.shots/matches, digits = 2)) %>% \n",
    "  select(home_team, var1) %>% rename(Teams = home_team)  %>% \n",
    "  arrange(desc(var1))  %>% slice(1:14)"
   ]
  },
  {
   "cell_type": "code",
   "execution_count": 69,
   "id": "dcce8f08",
   "metadata": {},
   "outputs": [
    {
     "data": {
      "text/html": [
       "<table>\n",
       "<thead><tr><th scope=col>Teams</th><th scope=col>var1</th></tr></thead>\n",
       "<tbody>\n",
       "\t<tr><td>Manchester City  </td><td>6.76             </td></tr>\n",
       "\t<tr><td>Chelsea          </td><td>6.38             </td></tr>\n",
       "\t<tr><td>Liverpool        </td><td>6.35             </td></tr>\n",
       "\t<tr><td>Arsenal          </td><td>6.08             </td></tr>\n",
       "\t<tr><td>Tottenham Hotspur</td><td>5.98             </td></tr>\n",
       "\t<tr><td>Manchester United</td><td>5.88             </td></tr>\n",
       "\t<tr><td>Leeds United     </td><td>5.46             </td></tr>\n",
       "\t<tr><td>Fulham           </td><td>4.99             </td></tr>\n",
       "\t<tr><td>Everton          </td><td>4.97             </td></tr>\n",
       "\t<tr><td>Bolton Wanderers </td><td>4.84             </td></tr>\n",
       "\t<tr><td>Wigan Athletic   </td><td>4.82             </td></tr>\n",
       "\t<tr><td>Southampton      </td><td>4.75             </td></tr>\n",
       "\t<tr><td>Newcastle United </td><td>4.52             </td></tr>\n",
       "\t<tr><td>Leicester City   </td><td>4.50             </td></tr>\n",
       "</tbody>\n",
       "</table>\n"
      ],
      "text/latex": [
       "\\begin{tabular}{r|ll}\n",
       " Teams & var1\\\\\n",
       "\\hline\n",
       "\t Manchester City   & 6.76             \\\\\n",
       "\t Chelsea           & 6.38             \\\\\n",
       "\t Liverpool         & 6.35             \\\\\n",
       "\t Arsenal           & 6.08             \\\\\n",
       "\t Tottenham Hotspur & 5.98             \\\\\n",
       "\t Manchester United & 5.88             \\\\\n",
       "\t Leeds United      & 5.46             \\\\\n",
       "\t Fulham            & 4.99             \\\\\n",
       "\t Everton           & 4.97             \\\\\n",
       "\t Bolton Wanderers  & 4.84             \\\\\n",
       "\t Wigan Athletic    & 4.82             \\\\\n",
       "\t Southampton       & 4.75             \\\\\n",
       "\t Newcastle United  & 4.52             \\\\\n",
       "\t Leicester City    & 4.50             \\\\\n",
       "\\end{tabular}\n"
      ],
      "text/markdown": [
       "\n",
       "| Teams | var1 |\n",
       "|---|---|\n",
       "| Manchester City   | 6.76              |\n",
       "| Chelsea           | 6.38              |\n",
       "| Liverpool         | 6.35              |\n",
       "| Arsenal           | 6.08              |\n",
       "| Tottenham Hotspur | 5.98              |\n",
       "| Manchester United | 5.88              |\n",
       "| Leeds United      | 5.46              |\n",
       "| Fulham            | 4.99              |\n",
       "| Everton           | 4.97              |\n",
       "| Bolton Wanderers  | 4.84              |\n",
       "| Wigan Athletic    | 4.82              |\n",
       "| Southampton       | 4.75              |\n",
       "| Newcastle United  | 4.52              |\n",
       "| Leicester City    | 4.50              |\n",
       "\n"
      ],
      "text/plain": [
       "   Teams             var1\n",
       "1  Manchester City   6.76\n",
       "2  Chelsea           6.38\n",
       "3  Liverpool         6.35\n",
       "4  Arsenal           6.08\n",
       "5  Tottenham Hotspur 5.98\n",
       "6  Manchester United 5.88\n",
       "7  Leeds United      5.46\n",
       "8  Fulham            4.99\n",
       "9  Everton           4.97\n",
       "10 Bolton Wanderers  4.84\n",
       "11 Wigan Athletic    4.82\n",
       "12 Southampton       4.75\n",
       "13 Newcastle United  4.52\n",
       "14 Leicester City    4.50"
      ]
     },
     "metadata": {},
     "output_type": "display_data"
    }
   ],
   "source": [
    "shots.h.target"
   ]
  },
  {
   "cell_type": "markdown",
   "id": "42fcd5a4",
   "metadata": {},
   "source": [
    "### In Away Matches"
   ]
  },
  {
   "cell_type": "code",
   "execution_count": 74,
   "id": "6918d5e8",
   "metadata": {},
   "outputs": [],
   "source": [
    "shots.a.target = pl %>% group_by(away_team) %>% \n",
    "  summarise(a.shots = sum(away_shots_on_target))  %>% \n",
    "  rename(col2 = away_team)"
   ]
  },
  {
   "cell_type": "code",
   "execution_count": 75,
   "id": "bfff5f9b",
   "metadata": {},
   "outputs": [],
   "source": [
    "shots.a.target = cbind(away.matches, shots.a.target)"
   ]
  },
  {
   "cell_type": "code",
   "execution_count": 76,
   "id": "2df0b12a",
   "metadata": {},
   "outputs": [],
   "source": [
    "shots.a.target = shots.a.target %>% \n",
    "  mutate(var2 = round(a.shots/matches.away, 2)) %>% \n",
    "  select(away_team, var2)  %>%  arrange(desc(var2))"
   ]
  },
  {
   "cell_type": "code",
   "execution_count": 77,
   "id": "cd2c0202",
   "metadata": {},
   "outputs": [
    {
     "data": {
      "text/html": [
       "<table>\n",
       "<thead><tr><th scope=col>away_team</th><th scope=col>var2</th></tr></thead>\n",
       "<tbody>\n",
       "\t<tr><td>Manchester City  </td><td>5.49             </td></tr>\n",
       "\t<tr><td>Leeds United     </td><td>5.31             </td></tr>\n",
       "\t<tr><td>Liverpool        </td><td>5.29             </td></tr>\n",
       "\t<tr><td>Tottenham Hotspur</td><td>4.93             </td></tr>\n",
       "\t<tr><td>Chelsea          </td><td>4.79             </td></tr>\n",
       "\t<tr><td>Manchester United</td><td>4.74             </td></tr>\n",
       "\t<tr><td>Arsenal          </td><td>4.69             </td></tr>\n",
       "\t<tr><td>Leicester City   </td><td>4.18             </td></tr>\n",
       "\t<tr><td>Blackpool        </td><td>4.11             </td></tr>\n",
       "\t<tr><td>Everton          </td><td>4.07             </td></tr>\n",
       "\t<tr><td>Southampton      </td><td>4.06             </td></tr>\n",
       "</tbody>\n",
       "</table>\n"
      ],
      "text/latex": [
       "\\begin{tabular}{r|ll}\n",
       " away\\_team & var2\\\\\n",
       "\\hline\n",
       "\t Manchester City   & 5.49             \\\\\n",
       "\t Leeds United      & 5.31             \\\\\n",
       "\t Liverpool         & 5.29             \\\\\n",
       "\t Tottenham Hotspur & 4.93             \\\\\n",
       "\t Chelsea           & 4.79             \\\\\n",
       "\t Manchester United & 4.74             \\\\\n",
       "\t Arsenal           & 4.69             \\\\\n",
       "\t Leicester City    & 4.18             \\\\\n",
       "\t Blackpool         & 4.11             \\\\\n",
       "\t Everton           & 4.07             \\\\\n",
       "\t Southampton       & 4.06             \\\\\n",
       "\\end{tabular}\n"
      ],
      "text/markdown": [
       "\n",
       "| away_team | var2 |\n",
       "|---|---|\n",
       "| Manchester City   | 5.49              |\n",
       "| Leeds United      | 5.31              |\n",
       "| Liverpool         | 5.29              |\n",
       "| Tottenham Hotspur | 4.93              |\n",
       "| Chelsea           | 4.79              |\n",
       "| Manchester United | 4.74              |\n",
       "| Arsenal           | 4.69              |\n",
       "| Leicester City    | 4.18              |\n",
       "| Blackpool         | 4.11              |\n",
       "| Everton           | 4.07              |\n",
       "| Southampton       | 4.06              |\n",
       "\n"
      ],
      "text/plain": [
       "   away_team         var2\n",
       "1  Manchester City   5.49\n",
       "2  Leeds United      5.31\n",
       "3  Liverpool         5.29\n",
       "4  Tottenham Hotspur 4.93\n",
       "5  Chelsea           4.79\n",
       "6  Manchester United 4.74\n",
       "7  Arsenal           4.69\n",
       "8  Leicester City    4.18\n",
       "9  Blackpool         4.11\n",
       "10 Everton           4.07\n",
       "11 Southampton       4.06"
      ]
     },
     "metadata": {},
     "output_type": "display_data"
    }
   ],
   "source": [
    "shots.a.target"
   ]
  },
  {
   "cell_type": "code",
   "execution_count": 97,
   "id": "e13a1eca",
   "metadata": {},
   "outputs": [],
   "source": [
    "shots.target = cbind(shots.h.target, shots.a.target)"
   ]
  },
  {
   "cell_type": "code",
   "execution_count": 98,
   "id": "8edab655",
   "metadata": {},
   "outputs": [],
   "source": [
    "shots.target = shots.target %>% \n",
    "  mutate(Shots.per.match = round((var1+var2)/2,digits = 2 )) %>% \n",
    "  select(Teams, Shots.per.match) %>% arrange(desc(Shots.per.match)) %>% \n",
    "  slice(1:15) %>% rename(Shots.On.Target = Shots.per.match)"
   ]
  },
  {
   "cell_type": "code",
   "execution_count": 100,
   "id": "a4980b44",
   "metadata": {},
   "outputs": [
    {
     "data": {
      "text/html": [
       "<table>\n",
       "<thead><tr><th scope=col>Teams</th><th scope=col>Shots.On.Target</th></tr></thead>\n",
       "<tbody>\n",
       "\t<tr><td>Manchester City  </td><td>6.12             </td></tr>\n",
       "\t<tr><td>Liverpool        </td><td>5.82             </td></tr>\n",
       "\t<tr><td>Chelsea          </td><td>5.58             </td></tr>\n",
       "\t<tr><td>Tottenham Hotspur</td><td>5.46             </td></tr>\n",
       "\t<tr><td>Arsenal          </td><td>5.38             </td></tr>\n",
       "\t<tr><td>Leeds United     </td><td>5.38             </td></tr>\n",
       "\t<tr><td>Manchester United</td><td>5.31             </td></tr>\n",
       "\t<tr><td>Everton          </td><td>4.52             </td></tr>\n",
       "\t<tr><td>Bolton Wanderers </td><td>4.42             </td></tr>\n",
       "\t<tr><td>Southampton      </td><td>4.40             </td></tr>\n",
       "\t<tr><td>Wigan Athletic   </td><td>4.40             </td></tr>\n",
       "\t<tr><td>Leicester City   </td><td>4.34             </td></tr>\n",
       "\t<tr><td>Fulham           </td><td>4.25             </td></tr>\n",
       "\t<tr><td>Blackpool        </td><td>4.24             </td></tr>\n",
       "\t<tr><td>West Ham United  </td><td>4.07             </td></tr>\n",
       "</tbody>\n",
       "</table>\n"
      ],
      "text/latex": [
       "\\begin{tabular}{r|ll}\n",
       " Teams & Shots.On.Target\\\\\n",
       "\\hline\n",
       "\t Manchester City   & 6.12             \\\\\n",
       "\t Liverpool         & 5.82             \\\\\n",
       "\t Chelsea           & 5.58             \\\\\n",
       "\t Tottenham Hotspur & 5.46             \\\\\n",
       "\t Arsenal           & 5.38             \\\\\n",
       "\t Leeds United      & 5.38             \\\\\n",
       "\t Manchester United & 5.31             \\\\\n",
       "\t Everton           & 4.52             \\\\\n",
       "\t Bolton Wanderers  & 4.42             \\\\\n",
       "\t Southampton       & 4.40             \\\\\n",
       "\t Wigan Athletic    & 4.40             \\\\\n",
       "\t Leicester City    & 4.34             \\\\\n",
       "\t Fulham            & 4.25             \\\\\n",
       "\t Blackpool         & 4.24             \\\\\n",
       "\t West Ham United   & 4.07             \\\\\n",
       "\\end{tabular}\n"
      ],
      "text/markdown": [
       "\n",
       "| Teams | Shots.On.Target |\n",
       "|---|---|\n",
       "| Manchester City   | 6.12              |\n",
       "| Liverpool         | 5.82              |\n",
       "| Chelsea           | 5.58              |\n",
       "| Tottenham Hotspur | 5.46              |\n",
       "| Arsenal           | 5.38              |\n",
       "| Leeds United      | 5.38              |\n",
       "| Manchester United | 5.31              |\n",
       "| Everton           | 4.52              |\n",
       "| Bolton Wanderers  | 4.42              |\n",
       "| Southampton       | 4.40              |\n",
       "| Wigan Athletic    | 4.40              |\n",
       "| Leicester City    | 4.34              |\n",
       "| Fulham            | 4.25              |\n",
       "| Blackpool         | 4.24              |\n",
       "| West Ham United   | 4.07              |\n",
       "\n"
      ],
      "text/plain": [
       "   Teams             Shots.On.Target\n",
       "1  Manchester City   6.12           \n",
       "2  Liverpool         5.82           \n",
       "3  Chelsea           5.58           \n",
       "4  Tottenham Hotspur 5.46           \n",
       "5  Arsenal           5.38           \n",
       "6  Leeds United      5.38           \n",
       "7  Manchester United 5.31           \n",
       "8  Everton           4.52           \n",
       "9  Bolton Wanderers  4.42           \n",
       "10 Southampton       4.40           \n",
       "11 Wigan Athletic    4.40           \n",
       "12 Leicester City    4.34           \n",
       "13 Fulham            4.25           \n",
       "14 Blackpool         4.24           \n",
       "15 West Ham United   4.07           "
      ]
     },
     "metadata": {},
     "output_type": "display_data"
    }
   ],
   "source": [
    "shots.target"
   ]
  },
  {
   "cell_type": "code",
   "execution_count": 101,
   "id": "ae961c95",
   "metadata": {},
   "outputs": [
    {
     "data": {
      "image/png": "[encoded data removed]",
      "text/plain": [
       "plot without title"
      ]
     },
     "metadata": {},
     "output_type": "display_data"
    }
   ],
   "source": [
    "ggplot(shots.target, aes(reorder(Teams, Shots.On.Target), Shots.On.Target)) + \n",
    "  geom_bar(stat = 'identity', fill = 'darkslategray4', col = 'black')+ \n",
    "  coord_flip() + theme_classic() +  theme(legend.position = 'none')+\n",
    "  geom_text(aes(label = Shots.On.Target, hjust = -0.15))+\n",
    "  labs(title = 'Most Shots on Target per Match by PL Teams Since 2010',\n",
    "       x = 'Teams', tag = '7', y = 'Shots on Target')"
   ]
  },
  {
   "cell_type": "markdown",
   "id": "4e0fa13c",
   "metadata": {},
   "source": [
    "## Best Shot Conversion Ratio"
   ]
  },
  {
   "cell_type": "code",
   "execution_count": 106,
   "id": "0793c33c",
   "metadata": {},
   "outputs": [],
   "source": [
    "scr = cbind(goals.per.match, shots)"
   ]
  },
  {
   "cell_type": "code",
   "execution_count": 107,
   "id": "782d463a",
   "metadata": {},
   "outputs": [
    {
     "name": "stdout",
     "output_type": "stream",
     "text": [
      "                     Teams Conversion.Rate\n",
      "1          Manchester City           12.93\n",
      "2        Manchester United           12.57\n",
      "3                  Arsenal           12.40\n",
      "4           Leicester City           11.89\n",
      "5             Leeds United           11.71\n",
      "6                Liverpool           11.55\n",
      "7                  Chelsea           11.08\n",
      "8        Tottenham Hotspur           10.97\n",
      "9          AFC Bournemouth           10.94\n",
      "10                 Reading           10.92\n",
      "11                 Everton           10.61\n",
      "12        Blackburn Rovers           10.38\n",
      "13               Blackpool           10.36\n",
      "14         West Ham United           10.35\n",
      "15            Swansea City            9.92\n",
      "16                 Watford            9.77\n",
      "17          Crystal Palace            9.74\n",
      "18             Southampton            9.74\n",
      "19 Wolverhampton Wanderers            9.65\n",
      "20                 Burnley            9.57\n"
     ]
    }
   ],
   "source": [
    "scr = scr %>% \n",
    "  mutate(Conversion.Rate =round(Goals.Per.Matches/Shots.per.match*100, digits = 2)) %>% \n",
    "  select(Teams, Conversion.Rate) %>% arrange(desc(Conversion.Rate)) %>% slice(1:20) %>% print()"
   ]
  },
  {
   "cell_type": "code",
   "execution_count": 108,
   "id": "57f44d48",
   "metadata": {},
   "outputs": [
    {
     "data": {
      "image/png": "[encoded data removed]",
      "text/plain": [
       "plot without title"
      ]
     },
     "metadata": {},
     "output_type": "display_data"
    }
   ],
   "source": [
    "ggplot(scr, aes(reorder(Teams, Conversion.Rate), Conversion.Rate)) + \n",
    "  geom_bar(stat = 'identity', fill = 'darkslategray4', col = 'black')+ \n",
    "  coord_flip() + theme_classic() +  theme(legend.position = 'none')+\n",
    "  geom_text(aes(label = Conversion.Rate, hjust = -0.15))+\n",
    "  labs(title = 'Highest Shot Conversion Rate of PL Teams Since 2010',\n",
    "       x = 'Teams', tag = '8', y = 'Shot Conversion Rate')\n"
   ]
  },
  {
   "cell_type": "markdown",
   "id": "34dbe253",
   "metadata": {},
   "source": [
    "## MOST FOULS CONCEDED"
   ]
  },
  {
   "cell_type": "code",
   "execution_count": 180,
   "id": "4412dc35",
   "metadata": {},
   "outputs": [],
   "source": [
    "fouls.home = pl %>% group_by(home_team) %>% \n",
    "  summarise(var1 = sum(home_fouls_conceded)) %>% \n",
    "  rename(Teams = home_team)"
   ]
  },
  {
   "cell_type": "code",
   "execution_count": 181,
   "id": "e86e8417",
   "metadata": {},
   "outputs": [],
   "source": [
    "fouls.away = pl %>% group_by(away_team) %>%\n",
    "  summarise(var2 = sum(away_fouls_conceded))  %>% \n",
    "  rename(c2 = away_team)"
   ]
  },
  {
   "cell_type": "code",
   "execution_count": 185,
   "id": "2d19558f",
   "metadata": {},
   "outputs": [],
   "source": [
    "fouls = cbind(fouls.home, fouls.away, most.matches)"
   ]
  },
  {
   "cell_type": "code",
   "execution_count": 186,
   "id": "7c5494b3",
   "metadata": {},
   "outputs": [],
   "source": [
    "fouls = fouls %>%  mutate(total = var1 + var2) %>% \n",
    "  mutate(Fouls.Conceded = round(total/(matches+matches.away), digits = 2)) %>% \n",
    "  select(Teams, Fouls.Conceded) %>% arrange(desc(Fouls.Conceded))"
   ]
  },
  {
   "cell_type": "code",
   "execution_count": 188,
   "id": "94402ceb",
   "metadata": {},
   "outputs": [],
   "source": [
    "fouls.15 = fouls[1:15, ] "
   ]
  },
  {
   "cell_type": "code",
   "execution_count": 189,
   "id": "ab269fcc",
   "metadata": {},
   "outputs": [
    {
     "data": {
      "text/html": [
       "<table>\n",
       "<thead><tr><th scope=col>Teams</th><th scope=col>Fouls.Conceded</th></tr></thead>\n",
       "<tbody>\n",
       "\t<tr><td>Bolton Wanderers </td><td>12.84            </td></tr>\n",
       "\t<tr><td>Middlesbrough    </td><td>12.68            </td></tr>\n",
       "\t<tr><td>Blackburn Rovers </td><td>12.58            </td></tr>\n",
       "\t<tr><td>Wigan Athletic   </td><td>12.57            </td></tr>\n",
       "\t<tr><td>Watford          </td><td>12.27            </td></tr>\n",
       "\t<tr><td>Stoke City       </td><td>11.98            </td></tr>\n",
       "\t<tr><td>Aston Villa      </td><td>11.64            </td></tr>\n",
       "\t<tr><td>Blackpool        </td><td>11.58            </td></tr>\n",
       "\t<tr><td>Crystal Palace   </td><td>11.56            </td></tr>\n",
       "\t<tr><td>Sheffield United </td><td>11.55            </td></tr>\n",
       "\t<tr><td>Birmingham City  </td><td>11.45            </td></tr>\n",
       "\t<tr><td>Sunderland       </td><td>11.42            </td></tr>\n",
       "\t<tr><td>Southampton      </td><td>11.39            </td></tr>\n",
       "\t<tr><td>Manchester United</td><td>11.31            </td></tr>\n",
       "\t<tr><td>Everton          </td><td>11.30            </td></tr>\n",
       "</tbody>\n",
       "</table>\n"
      ],
      "text/latex": [
       "\\begin{tabular}{r|ll}\n",
       " Teams & Fouls.Conceded\\\\\n",
       "\\hline\n",
       "\t Bolton Wanderers  & 12.84            \\\\\n",
       "\t Middlesbrough     & 12.68            \\\\\n",
       "\t Blackburn Rovers  & 12.58            \\\\\n",
       "\t Wigan Athletic    & 12.57            \\\\\n",
       "\t Watford           & 12.27            \\\\\n",
       "\t Stoke City        & 11.98            \\\\\n",
       "\t Aston Villa       & 11.64            \\\\\n",
       "\t Blackpool         & 11.58            \\\\\n",
       "\t Crystal Palace    & 11.56            \\\\\n",
       "\t Sheffield United  & 11.55            \\\\\n",
       "\t Birmingham City   & 11.45            \\\\\n",
       "\t Sunderland        & 11.42            \\\\\n",
       "\t Southampton       & 11.39            \\\\\n",
       "\t Manchester United & 11.31            \\\\\n",
       "\t Everton           & 11.30            \\\\\n",
       "\\end{tabular}\n"
      ],
      "text/markdown": [
       "\n",
       "| Teams | Fouls.Conceded |\n",
       "|---|---|\n",
       "| Bolton Wanderers  | 12.84             |\n",
       "| Middlesbrough     | 12.68             |\n",
       "| Blackburn Rovers  | 12.58             |\n",
       "| Wigan Athletic    | 12.57             |\n",
       "| Watford           | 12.27             |\n",
       "| Stoke City        | 11.98             |\n",
       "| Aston Villa       | 11.64             |\n",
       "| Blackpool         | 11.58             |\n",
       "| Crystal Palace    | 11.56             |\n",
       "| Sheffield United  | 11.55             |\n",
       "| Birmingham City   | 11.45             |\n",
       "| Sunderland        | 11.42             |\n",
       "| Southampton       | 11.39             |\n",
       "| Manchester United | 11.31             |\n",
       "| Everton           | 11.30             |\n",
       "\n"
      ],
      "text/plain": [
       "   Teams             Fouls.Conceded\n",
       "1  Bolton Wanderers  12.84         \n",
       "2  Middlesbrough     12.68         \n",
       "3  Blackburn Rovers  12.58         \n",
       "4  Wigan Athletic    12.57         \n",
       "5  Watford           12.27         \n",
       "6  Stoke City        11.98         \n",
       "7  Aston Villa       11.64         \n",
       "8  Blackpool         11.58         \n",
       "9  Crystal Palace    11.56         \n",
       "10 Sheffield United  11.55         \n",
       "11 Birmingham City   11.45         \n",
       "12 Sunderland        11.42         \n",
       "13 Southampton       11.39         \n",
       "14 Manchester United 11.31         \n",
       "15 Everton           11.30         "
      ]
     },
     "metadata": {},
     "output_type": "display_data"
    }
   ],
   "source": [
    "fouls.15"
   ]
  },
  {
   "cell_type": "code",
   "execution_count": 190,
   "id": "4f4c51fc",
   "metadata": {},
   "outputs": [
    {
     "data": {
      "text/html": [
       "<table>\n",
       "<thead><tr><th></th><th scope=col>Teams</th><th scope=col>Fouls.Conceded</th></tr></thead>\n",
       "<tbody>\n",
       "\t<tr><th scope=row>23</th><td>Wolverhampton Wanderers</td><td>11.03                  </td></tr>\n",
       "\t<tr><th scope=row>24</th><td>Tottenham Hotspur      </td><td>10.83                  </td></tr>\n",
       "\t<tr><th scope=row>25</th><td>Norwich City           </td><td>10.76                  </td></tr>\n",
       "\t<tr><th scope=row>26</th><td>Huddersfield Town      </td><td>10.75                  </td></tr>\n",
       "\t<tr><th scope=row>27</th><td>Leicester City         </td><td>10.68                  </td></tr>\n",
       "\t<tr><th scope=row>28</th><td>West Ham United        </td><td>10.66                  </td></tr>\n",
       "\t<tr><th scope=row>29</th><td>Manchester City        </td><td>10.60                  </td></tr>\n",
       "\t<tr><th scope=row>30</th><td>Chelsea                </td><td>10.51                  </td></tr>\n",
       "\t<tr><th scope=row>31</th><td>Burnley                </td><td>10.37                  </td></tr>\n",
       "\t<tr><th scope=row>32</th><td>Reading                </td><td>10.37                  </td></tr>\n",
       "\t<tr><th scope=row>33</th><td>Arsenal                </td><td>10.28                  </td></tr>\n",
       "\t<tr><th scope=row>34</th><td>Liverpool              </td><td>10.17                  </td></tr>\n",
       "\t<tr><th scope=row>35</th><td>Swansea City           </td><td>10.05                  </td></tr>\n",
       "\t<tr><th scope=row>36</th><td>Cardiff City           </td><td> 9.46                  </td></tr>\n",
       "\t<tr><th scope=row>37</th><td>AFC Bournemouth        </td><td> 9.31                  </td></tr>\n",
       "</tbody>\n",
       "</table>\n"
      ],
      "text/latex": [
       "\\begin{tabular}{r|ll}\n",
       "  & Teams & Fouls.Conceded\\\\\n",
       "\\hline\n",
       "\t23 & Wolverhampton Wanderers & 11.03                  \\\\\n",
       "\t24 & Tottenham Hotspur       & 10.83                  \\\\\n",
       "\t25 & Norwich City            & 10.76                  \\\\\n",
       "\t26 & Huddersfield Town       & 10.75                  \\\\\n",
       "\t27 & Leicester City          & 10.68                  \\\\\n",
       "\t28 & West Ham United         & 10.66                  \\\\\n",
       "\t29 & Manchester City         & 10.60                  \\\\\n",
       "\t30 & Chelsea                 & 10.51                  \\\\\n",
       "\t31 & Burnley                 & 10.37                  \\\\\n",
       "\t32 & Reading                 & 10.37                  \\\\\n",
       "\t33 & Arsenal                 & 10.28                  \\\\\n",
       "\t34 & Liverpool               & 10.17                  \\\\\n",
       "\t35 & Swansea City            & 10.05                  \\\\\n",
       "\t36 & Cardiff City            &  9.46                  \\\\\n",
       "\t37 & AFC Bournemouth         &  9.31                  \\\\\n",
       "\\end{tabular}\n"
      ],
      "text/markdown": [
       "\n",
       "| <!--/--> | Teams | Fouls.Conceded |\n",
       "|---|---|---|\n",
       "| 23 | Wolverhampton Wanderers | 11.03                   |\n",
       "| 24 | Tottenham Hotspur       | 10.83                   |\n",
       "| 25 | Norwich City            | 10.76                   |\n",
       "| 26 | Huddersfield Town       | 10.75                   |\n",
       "| 27 | Leicester City          | 10.68                   |\n",
       "| 28 | West Ham United         | 10.66                   |\n",
       "| 29 | Manchester City         | 10.60                   |\n",
       "| 30 | Chelsea                 | 10.51                   |\n",
       "| 31 | Burnley                 | 10.37                   |\n",
       "| 32 | Reading                 | 10.37                   |\n",
       "| 33 | Arsenal                 | 10.28                   |\n",
       "| 34 | Liverpool               | 10.17                   |\n",
       "| 35 | Swansea City            | 10.05                   |\n",
       "| 36 | Cardiff City            |  9.46                   |\n",
       "| 37 | AFC Bournemouth         |  9.31                   |\n",
       "\n"
      ],
      "text/plain": [
       "   Teams                   Fouls.Conceded\n",
       "23 Wolverhampton Wanderers 11.03         \n",
       "24 Tottenham Hotspur       10.83         \n",
       "25 Norwich City            10.76         \n",
       "26 Huddersfield Town       10.75         \n",
       "27 Leicester City          10.68         \n",
       "28 West Ham United         10.66         \n",
       "29 Manchester City         10.60         \n",
       "30 Chelsea                 10.51         \n",
       "31 Burnley                 10.37         \n",
       "32 Reading                 10.37         \n",
       "33 Arsenal                 10.28         \n",
       "34 Liverpool               10.17         \n",
       "35 Swansea City            10.05         \n",
       "36 Cardiff City             9.46         \n",
       "37 AFC Bournemouth          9.31         "
      ]
     },
     "metadata": {},
     "output_type": "display_data"
    }
   ],
   "source": [
    "fouls.last14 = fouls[23:37, ]\n",
    "\n",
    "fouls.last14"
   ]
  }
 ],
 "metadata": {
  "kernelspec": {
   "display_name": "R",
   "language": "R",
   "name": "ir"
  },
  "language_info": {
   "codemirror_mode": "r",
   "file_extension": ".r",
   "mimetype": "text/x-r-source",
   "name": "R",
   "pygments_lexer": "r",
   "version": "3.6.1"
  }
 },
 "nbformat": 4,
 "nbformat_minor": 5
}
